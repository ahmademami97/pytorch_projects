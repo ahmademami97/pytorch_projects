{
  "cells": [
    {
      "cell_type": "markdown",
      "metadata": {
        "colab_type": "text",
        "id": "view-in-github"
      },
      "source": [
        "<a href=\"https://colab.research.google.com/github/ahmademami97/pytorch_projects/blob/main/03_logistic_regression.ipynb\" target=\"_parent\"><img src=\"https://colab.research.google.com/assets/colab-badge.svg\" alt=\"Open In Colab\"/></a>"
      ]
    },
    {
      "cell_type": "code",
      "execution_count": 42,
      "metadata": {
        "id": "LGwppocdA9UA"
      },
      "outputs": [],
      "source": [
        "#check for changes"
      ]
    },
    {
      "cell_type": "markdown",
      "metadata": {
        "id": "OZ0S8IQWfTTV"
      },
      "source": [
        "# Working with Images & Logistic Regression in PyTorch\n",
        "\n",
        "### Part 3 of \"Deep Learning with Pytorch: Zero to GANs\"\n",
        "\n",
        "This tutorial series is a hands-on beginner-friendly introduction to deep learning using [PyTorch](https://pytorch.org), an open-source neural networks library. These tutorials take a practical and coding-focused approach. The best way to learn the material is to execute the code and experiment with it yourself. Check out the full series here:\n",
        "\n",
        "1. [PyTorch Basics: Tensors & Gradients](https://jovian.ai/aakashns/01-pytorch-basics)\n",
        "2. [Gradient Descent & Linear Regression](https://jovian.ai/aakashns/02-linear-regression)\n",
        "3. [Working with Images & Logistic Regression](https://jovian.ai/aakashns/03-logistic-regression) \n",
        "4. [Training Deep Neural Networks on a GPU](https://jovian.ai/aakashns/04-feedforward-nn)\n",
        "5. [Image Classification using Convolutional Neural Networks](https://jovian.ai/aakashns/05-cifar10-cnn)\n",
        "6. [Data Augmentation, Regularization and ResNets](https://jovian.ai/aakashns/05b-cifar10-resnet)\n",
        "7. [Generating Images using Generative Adversarial Networks](https://jovian.ai/aakashns/06b-anime-dcgan/)"
      ]
    },
    {
      "cell_type": "markdown",
      "metadata": {
        "id": "YL4niY96fTTV"
      },
      "source": [
        "This tutorial covers the following topics:\n",
        "    \n",
        "* Working with images in PyTorch (using the MNIST dataset)\n",
        "* Splitting a dataset into training, validation, and test sets\n",
        "* Creating PyTorch models with custom logic by extending the `nn.Module` class\n",
        "* Interpreting model outputs as probabilities using Softmax and picking predicted labels\n",
        "* Picking a useful evaluation metric (accuracy) and loss function (cross-entropy) for classification problems\n",
        "* Setting up a training loop that also evaluates the model using the validation set\n",
        "* Testing the model manually on randomly picked examples \n",
        "* Saving and loading model checkpoints to avoid retraining from scratch\n",
        "\n"
      ]
    },
    {
      "cell_type": "markdown",
      "metadata": {
        "id": "l8SHC9wafTTV"
      },
      "source": [
        "### How to run the code\n",
        "\n",
        "This tutorial is an executable [Jupyter notebook](https://jupyter.org) hosted on [Jovian](https://www.jovian.ai). You can _run_ this tutorial and experiment with the code examples in a couple of ways: *using free online resources* (recommended) or *on your computer*.\n",
        "\n",
        "#### Option 1: Running using free online resources (1-click, recommended)\n",
        "\n",
        "The easiest way to start executing the code is to click the **Run** button at the top of this page and select **Run on Colab**. [Google Colab](https://colab.research.google.com) is a free online platform for running Jupyter notebooks using Google's cloud infrastructure. You can also select \"Run on Binder\" or \"Run on Kaggle\" if you face issues running the notebook on Google Colab.\n",
        "\n",
        "\n",
        "#### Option 2: Running on your computer locally\n",
        "\n",
        "To run the code on your computer locally, you'll need to set up [Python](https://www.python.org), download the notebook and install the required libraries. We recommend using the [Conda](https://docs.conda.io/projects/conda/en/latest/user-guide/install/) distribution of Python. Click the **Run** button at the top of this page, select the **Run Locally** option, and follow the instructions.\n",
        "\n",
        ">  **Jupyter Notebooks**: This tutorial is a [Jupyter notebook](https://jupyter.org) - a document made of _cells_. Each cell can contain code written in Python or explanations in plain English. You can execute code cells and view the results, e.g., numbers, messages, graphs, tables, files, etc., instantly within the notebook. Jupyter is a powerful platform for experimentation and analysis. Don't be afraid to mess around with the code & break things - you'll learn a lot by encountering and fixing errors. You can use the \"Kernel > Restart & Clear Output\" or \"Edit > Clear Outputs\" menu option to clear all outputs and start again from the top."
      ]
    },
    {
      "cell_type": "markdown",
      "metadata": {
        "id": "BlizBg8UfTTV"
      },
      "source": [
        "## Working with Images\n",
        "\n",
        "In this tutorial, we'll use our existing knowledge of PyTorch and linear regression to solve a very different kind of problem: *image classification*. We'll use the famous [*MNIST Handwritten Digits Database*](http://yann.lecun.com/exdb/mnist/) as our training dataset. It consists of 28px by 28px grayscale images of handwritten digits (0 to 9) and labels for each image indicating which digit it represents. Here are some sample images from the dataset:\n",
        "\n",
        "![mnist-sample](https://i.imgur.com/CAYnuo1.jpg)"
      ]
    },
    {
      "cell_type": "markdown",
      "metadata": {
        "id": "IArll2smfTTV"
      },
      "source": [
        "We begin by installing and importing `torch` and `torchvision`. `torchvision` contains some utilities for working with image data. It also provides helper classes to download and import popular datasets like MNIST automatically"
      ]
    },
    {
      "cell_type": "code",
      "execution_count": null,
      "metadata": {
        "id": "y_D8CGr0fTTV"
      },
      "outputs": [],
      "source": [
        "# Uncomment and run the appropriate command for your operating system, if required\n",
        "\n",
        "# Linux / Binder\n",
        "# !pip install numpy matplotlib torch==1.7.0+cpu torchvision==0.8.1+cpu torchaudio==0.7.0 -f https://download.pytorch.org/whl/torch_stable.html\n",
        "\n",
        "# Windows\n",
        "# !pip install numpy matplotlib torch==1.7.0+cpu torchvision==0.8.1+cpu torchaudio==0.7.0 -f https://download.pytorch.org/whl/torch_stable.html\n",
        "\n",
        "# MacOS\n",
        "# !pip install numpy matplotlib torch torchvision torchaudio"
      ]
    },
    {
      "cell_type": "code",
      "execution_count": 1,
      "metadata": {
        "id": "o_xViEWvfTTV"
      },
      "outputs": [],
      "source": [
        "# Imports\n",
        "import torch\n",
        "import torchvision\n",
        "from torchvision.datasets import MNIST"
      ]
    },
    {
      "cell_type": "code",
      "execution_count": 2,
      "metadata": {
        "colab": {
          "base_uri": "https://localhost:8080/",
          "height": 466,
          "referenced_widgets": [
            "b0a60fc54b5049eaaa0c1f89315ac4a5",
            "996f781a8fd74f3fa64ffe2d76e979f0",
            "8e84155f13b04226857cf5cbfa76b0e3",
            "b036df31845045ba83440406c15e51e9",
            "8841de3338eb47fab1564f55e786ed4b",
            "5196846131664ead9d4bb8dc0c1504f1",
            "3ac68a7dc4674690b0c33f3a80a3532b",
            "6a796ef0ad584575954877b7205712dc",
            "12f082948d9c42fcb818325ebe7e09fd",
            "f446ce92948a42b4a3a0dce615036da2",
            "803d76b9591b473aa93b9fbe06326244",
            "901272bfd7bd4ef781db58589c221156",
            "6d32378cc18e44da902a0caa2a0b255c",
            "81e2fc9c1f4641fc8950a399aa0fb315",
            "a3a3e44131024c2f92750689e5914e7b",
            "727a038ff653429d9428a856c99097f0",
            "865670c5b4b449b1afbbebb82b2663d7",
            "35e5b97bed024498bfd8ebb4fb7373a1",
            "eef4f85359eb4bbfa6fbd5441e5eac44",
            "bd71b29d667f4b4ea8dc6cc9d50655e4",
            "63b1e15e880c41368ca8830a4c4e4586",
            "85e88c1957d54d42b35c639452833f32",
            "704c2b08ffae4d3f882c69b073c0ba5d",
            "a1869a90ff4c466b94db56e6033e316e",
            "562eee762a1e4abb883665c25b0efe94",
            "cb7ac2d69f174a39806e20278b5a903d",
            "def5a44fc01d476194bc31606c31ce0e",
            "5cb8dd78f16c4aee87ef71d850472f39",
            "38c4a9a6f83d4fceac12055ac96e401d",
            "29d6e3129b1f42ea99dfc2c0f552c502",
            "a0368ed004794c4281f5a1d49ba3b401",
            "4c7e36fe0bc648488abc511f290fb94a",
            "cbe5ed53f7414f59810858142909fd49",
            "0e2785a35c7d48d599aa463d2113dd94",
            "e58db8f66499485586335448f204a3a8",
            "ddd700a575744f26bab1c1dbcf6f9aef",
            "bdc52524eb5f4e58a0e54b3cad0567a7",
            "49b123bc2089400db875b686e72f2087",
            "c5c90057571942a9be66731e2484893a",
            "386da8a107cc4972b6659478a41114f8",
            "5b562b6afa5f4505b760bfcf2111880d",
            "2e211c17ec864dbda2554f51939c2197",
            "82ab12cf436949118f46fc56a9830436",
            "dceb1e82ad44436494652d638e7942b0"
          ]
        },
        "id": "q1Skz7dlfTTV",
        "outputId": "7b801424-fd21-4596-96a5-bbdfaf10c319"
      },
      "outputs": [],
      "source": [
        "# Download training dataset\n",
        "dataset = MNIST(root='data/', download=True)"
      ]
    },
    {
      "cell_type": "markdown",
      "metadata": {
        "id": "Koi-fVbAfTTV"
      },
      "source": [
        "When this statement is executed for the first time, it downloads the data to the `data/` directory next to the notebook and creates a PyTorch `Dataset`. On subsequent executions, the download is skipped as the data is already downloaded. Let's check the size of the dataset."
      ]
    },
    {
      "cell_type": "code",
      "execution_count": 3,
      "metadata": {
        "colab": {
          "base_uri": "https://localhost:8080/"
        },
        "id": "W9mWyKqAfTTV",
        "outputId": "e44405c0-9869-4c4e-c7a5-345b46d17d0f"
      },
      "outputs": [
        {
          "data": {
            "text/plain": [
              "60000"
            ]
          },
          "execution_count": 3,
          "metadata": {},
          "output_type": "execute_result"
        }
      ],
      "source": [
        "len(dataset)"
      ]
    },
    {
      "cell_type": "markdown",
      "metadata": {
        "id": "6pRKB16NfTTW"
      },
      "source": [
        "The dataset has 60,000 images that we'll use to train the model. There is also an additional test set of 10,000 images used for evaluating models and reporting metrics in papers and reports. We can create the test dataset using the `MNIST` class by passing `train=False` to the constructor."
      ]
    },
    {
      "cell_type": "code",
      "execution_count": 4,
      "metadata": {
        "colab": {
          "base_uri": "https://localhost:8080/"
        },
        "id": "zLqZQOlWfTTW",
        "outputId": "e9443dd3-5b95-4fe0-aebd-d1a88ff1da27"
      },
      "outputs": [
        {
          "data": {
            "text/plain": [
              "10000"
            ]
          },
          "execution_count": 4,
          "metadata": {},
          "output_type": "execute_result"
        }
      ],
      "source": [
        "test_dataset = MNIST(root='data/', train=False)\n",
        "len(test_dataset)"
      ]
    },
    {
      "cell_type": "markdown",
      "metadata": {
        "id": "bgJru-f7fTTW"
      },
      "source": [
        "Let's look at a sample element from the training dataset."
      ]
    },
    {
      "cell_type": "code",
      "execution_count": 5,
      "metadata": {
        "colab": {
          "base_uri": "https://localhost:8080/"
        },
        "id": "4ZmSZeFGfTTW",
        "outputId": "7127bce0-97b8-45e4-c963-d45289e31090"
      },
      "outputs": [
        {
          "data": {
            "text/plain": [
              "(<PIL.Image.Image image mode=L size=28x28 at 0x2C54E8BE940>, 5)"
            ]
          },
          "execution_count": 5,
          "metadata": {},
          "output_type": "execute_result"
        }
      ],
      "source": [
        "dataset[0]"
      ]
    },
    {
      "cell_type": "markdown",
      "metadata": {
        "id": "2oBdGAc4fTTX"
      },
      "source": [
        "It's a pair, consisting of a 28x28px image and a label. The image is an object of the class `PIL.Image.Image`, which is a part of the Python imaging library [Pillow](https://pillow.readthedocs.io/en/stable/). We can view the image within Jupyter using [`matplotlib`](https://matplotlib.org/), the de-facto plotting and graphing library for data science in Python."
      ]
    },
    {
      "cell_type": "code",
      "execution_count": 6,
      "metadata": {
        "id": "edyBIgXPfTTX"
      },
      "outputs": [],
      "source": [
        "import matplotlib.pyplot as plt"
      ]
    },
    {
      "cell_type": "markdown",
      "metadata": {
        "id": "TSVQL5vJfTTX"
      },
      "source": [
        "The statement `%matplotlib inline` indicates to Jupyter that we want to plot the graphs within the notebook. Without this line, Jupyter will show the image in a popup. Statements starting with `%` are called magic commands and are used to configure the behavior of Jupyter itself. You can find a full list of magic commands here: https://ipython.readthedocs.io/en/stable/interactive/magics.html .\n",
        "\n",
        "Let's look at a couple of images from the dataset."
      ]
    },
    {
      "cell_type": "code",
      "execution_count": 7,
      "metadata": {
        "colab": {
          "base_uri": "https://localhost:8080/",
          "height": 281
        },
        "id": "3cxwpTQLfTTX",
        "outputId": "61d82ae7-a2ce-4bc0-d724-4b34f16a8764"
      },
      "outputs": [
        {
          "name": "stdout",
          "output_type": "stream",
          "text": [
            "Label: 5\n"
          ]
        },
        {
          "data": {
            "image/png": "[encoded data removed]",
            "text/plain": [
              "<Figure size 432x288 with 1 Axes>"
            ]
          },
          "metadata": {
            "needs_background": "light"
          },
          "output_type": "display_data"
        }
      ],
      "source": [
        "image, label = dataset[0]\n",
        "plt.imshow(image, cmap='gray')\n",
        "print('Label:', label)"
      ]
    },
    {
      "cell_type": "code",
      "execution_count": 8,
      "metadata": {
        "colab": {
          "base_uri": "https://localhost:8080/",
          "height": 281
        },
        "id": "35ELPbM7fTTX",
        "outputId": "bd110190-1a7e-44ec-b07c-ce0e13b3c46e"
      },
      "outputs": [
        {
          "name": "stdout",
          "output_type": "stream",
          "text": [
            "Label: 3\n"
          ]
        },
        {
          "data": {
            "image/png": "[encoded data removed]",
            "text/plain": [
              "<Figure size 432x288 with 1 Axes>"
            ]
          },
          "metadata": {
            "needs_background": "light"
          },
          "output_type": "display_data"
        }
      ],
      "source": [
        "image, label = dataset[10]\n",
        "plt.imshow(image, cmap='gray')\n",
        "print('Label:', label)"
      ]
    },
    {
      "cell_type": "markdown",
      "metadata": {
        "id": "5vO2Gh9RfTTX"
      },
      "source": [
        "It's evident that these images are relatively small in size, and recognizing the digits can sometimes be challenging even for the human eye. While it's useful to look at these images, there's just one problem here: PyTorch doesn't know how to work with images. We need to convert the images into tensors. We can do this by specifying a transform while creating our dataset."
      ]
    },
    {
      "cell_type": "code",
      "execution_count": 9,
      "metadata": {
        "id": "FBnad_UDfTTX"
      },
      "outputs": [],
      "source": [
        "import torchvision.transforms as transforms"
      ]
    },
    {
      "cell_type": "markdown",
      "metadata": {
        "id": "084T0emtfTTX"
      },
      "source": [
        "PyTorch datasets allow us to specify one or more transformation functions that are applied to the images as they are loaded. The `torchvision.transforms` module contains many such predefined functions. We'll use the `ToTensor` transform to convert images into PyTorch tensors."
      ]
    },
    {
      "cell_type": "code",
      "execution_count": 10,
      "metadata": {
        "id": "hYvBQ3LzfTTX"
      },
      "outputs": [],
      "source": [
        "# MNIST dataset (images and labels)\n",
        "dataset = MNIST(root='data/', \n",
        "                train=True,\n",
        "                transform=transforms.ToTensor())"
      ]
    },
    {
      "cell_type": "code",
      "execution_count": 11,
      "metadata": {
        "colab": {
          "base_uri": "https://localhost:8080/"
        },
        "id": "nCZ4h7jMfTTX",
        "outputId": "1dcdb289-b2a4-4c03-9b05-565225e9a7ff"
      },
      "outputs": [
        {
          "name": "stdout",
          "output_type": "stream",
          "text": [
            "torch.Size([1, 28, 28]) 5\n"
          ]
        }
      ],
      "source": [
        "img_tensor, label = dataset[0]\n",
        "print(img_tensor.shape, label)"
      ]
    },
    {
      "cell_type": "markdown",
      "metadata": {
        "id": "Io317DfSfTTX"
      },
      "source": [
        "The image is now converted to a 1x28x28 tensor. The first dimension tracks color channels. The second and third dimensions represent pixels along the height and width of the image, respectively. Since images in the MNIST dataset are grayscale, there's just one channel. Other datasets have images with color, in which case there are three channels: red, green, and blue (RGB). \n",
        "\n",
        "Let's look at some sample values inside the tensor."
      ]
    },
    {
      "cell_type": "code",
      "execution_count": 12,
      "metadata": {
        "colab": {
          "base_uri": "https://localhost:8080/"
        },
        "id": "prZFgdtefTTX",
        "outputId": "bac45f66-8657-4557-e62f-9b1e951555ea"
      },
      "outputs": [
        {
          "name": "stdout",
          "output_type": "stream",
          "text": [
            "tensor([[[0.0039, 0.6039, 0.9922, 0.3529, 0.0000],\n",
            "         [0.0000, 0.5451, 0.9922, 0.7451, 0.0078],\n",
            "         [0.0000, 0.0431, 0.7451, 0.9922, 0.2745],\n",
            "         [0.0000, 0.0000, 0.1373, 0.9451, 0.8824],\n",
            "         [0.0000, 0.0000, 0.0000, 0.3176, 0.9412]]])\n",
            "tensor(1.) tensor(0.)\n"
          ]
        }
      ],
      "source": [
        "print(img_tensor[:,10:15,10:15])\n",
        "print(torch.max(img_tensor), torch.min(img_tensor))"
      ]
    },
    {
      "cell_type": "markdown",
      "metadata": {
        "id": "_2HjQ5P5fTTX"
      },
      "source": [
        "The values range from 0 to 1, with `0` representing black, `1` white, and the values in between different shades of grey. We can also plot the tensor as an image using `plt.imshow`."
      ]
    },
    {
      "cell_type": "code",
      "execution_count": 13,
      "metadata": {
        "colab": {
          "base_uri": "https://localhost:8080/",
          "height": 265
        },
        "id": "Fw-NvsqpfTTX",
        "outputId": "78a3190b-5d79-4898-ad07-8b8a93aadaa0"
      },
      "outputs": [
        {
          "data": {
            "image/png": "[encoded data removed]",
            "text/plain": [
              "<Figure size 432x288 with 1 Axes>"
            ]
          },
          "metadata": {
            "needs_background": "light"
          },
          "output_type": "display_data"
        }
      ],
      "source": [
        "# Plot the image by passing in the 28x28 matrix\n",
        "plt.imshow(img_tensor[0,10:15,10:15], cmap='gray');"
      ]
    },
    {
      "cell_type": "markdown",
      "metadata": {
        "id": "WudqBr3pfTTX"
      },
      "source": [
        "Note that we need to pass just the 28x28 matrix to `plt.imshow`, without a channel dimension. We also pass a color map (`cmap=gray`) to indicate that we want to see a grayscale image."
      ]
    },
    {
      "cell_type": "markdown",
      "metadata": {
        "id": "qSKTZ8aifTTX"
      },
      "source": [
        "## Training and Validation Datasets\n",
        "\n",
        "While building real-world machine learning models, it is quite common to split the dataset into three parts:\n",
        "\n",
        "1. **Training set** - used to train the model, i.e., compute the loss and adjust the model's weights using gradient descent.\n",
        "2. **Validation set** - used to evaluate the model during training, adjust hyperparameters (learning rate, etc.), and pick the best version of the model.\n",
        "3. **Test set** - used to compare different models or approaches and report the model's final accuracy.\n",
        "\n",
        "In the MNIST dataset, there are 60,000 training images and 10,000 test images. The test set is standardized so that different researchers can report their models' results against the same collection of images. \n",
        "\n",
        "Since there's no predefined validation set, we must manually split the 60,000 images into training and validation datasets. Let's set aside 10,000 randomly chosen images for validation. We can do this using the `random_spilt` method from PyTorch."
      ]
    },
    {
      "cell_type": "code",
      "execution_count": 14,
      "metadata": {
        "colab": {
          "base_uri": "https://localhost:8080/"
        },
        "id": "1dcE0OPBfTTX",
        "outputId": "b0a5e282-cdb3-4fe3-d15f-e84c39458508"
      },
      "outputs": [
        {
          "data": {
            "text/plain": [
              "(50000, 10000)"
            ]
          },
          "execution_count": 14,
          "metadata": {},
          "output_type": "execute_result"
        }
      ],
      "source": [
        "from torch.utils.data import random_split\n",
        "\n",
        "train_ds, val_ds = random_split(dataset, [50000, 10000])\n",
        "len(train_ds), len(val_ds)"
      ]
    },
    {
      "cell_type": "code",
      "execution_count": 15,
      "metadata": {
        "colab": {
          "base_uri": "https://localhost:8080/",
          "height": 281
        },
        "id": "jsluSwCB6fpj",
        "outputId": "b775bb4e-99cf-4dce-db6c-6ddc0a34b581"
      },
      "outputs": [
        {
          "name": "stdout",
          "output_type": "stream",
          "text": [
            "label=4\n"
          ]
        },
        {
          "data": {
            "image/png": "[encoded data removed]",
            "text/plain": [
              "<Figure size 432x288 with 1 Axes>"
            ]
          },
          "metadata": {
            "needs_background": "light"
          },
          "output_type": "display_data"
        }
      ],
      "source": [
        "#just my own line\n",
        "img,label=train_ds[230]\n",
        "plt.imshow(img[0,:,:],cmap='gray')\n",
        "print('label={}'.format(label))"
      ]
    },
    {
      "cell_type": "markdown",
      "metadata": {
        "id": "CACcvMnZfTTX"
      },
      "source": [
        "It's essential to choose a random sample for creating a validation set. Training data is often sorted by the target labels, i.e., images of 0s, followed by 1s, followed by 2s, etc. If we create a validation set using the last 20% of images, it would only consist of 8s and 9s. In contrast, the training set would contain no 8s or 9s. Such a training-validation would make it impossible to train a useful model.\n",
        "\n",
        "We can now create data loaders to help us load the data in batches. We'll use a batch size of 128.\n",
        "\n",
        "\n"
      ]
    },
    {
      "cell_type": "code",
      "execution_count": 16,
      "metadata": {
        "id": "pD_oD7BTfTTX"
      },
      "outputs": [],
      "source": [
        "from torch.utils.data import DataLoader\n",
        "\n",
        "batch_size = 128\n",
        "\n",
        "train_loader = DataLoader(train_ds, batch_size, shuffle=True)\n",
        "val_loader = DataLoader(val_ds, batch_size)"
      ]
    },
    {
      "cell_type": "markdown",
      "metadata": {
        "id": "NCtbVhkOfTTX"
      },
      "source": [
        "We set `shuffle=True` for the training data loader to ensure that the batches generated in each epoch are different. This randomization helps generalize & speed up the training process. On the other hand, since the validation data loader is used only for evaluating the model, there is no need to shuffle the images. \n"
      ]
    },
    {
      "cell_type": "markdown",
      "metadata": {
        "id": "Fy-lajKQfTTY"
      },
      "source": [
        "## Model\n",
        "\n",
        "Now that we have prepared our data loaders, we can define our model.\n",
        "\n",
        "* A **logistic regression** model is almost identical to a linear regression model. It contains weights and bias matrices, and the output is obtained using simple matrix operations (`pred = x @ w.t() + b`). \n",
        "\n",
        "* As we did with linear regression, we can use `nn.Linear` to create the model instead of manually creating and initializing the matrices.\n",
        "\n",
        "* Since `nn.Linear` expects each training example to be a vector, each `1x28x28` image tensor is _flattened_ into a vector of size 784 `(28*28)` before being passed into the model. \n",
        "\n",
        "* The output for each image is a vector of size 10, with each element signifying the probability of a particular target label (i.e., 0 to 9). The predicted label for an image is simply the one with the highest probability."
      ]
    },
    {
      "cell_type": "code",
      "execution_count": 17,
      "metadata": {
        "id": "zzVbD7pifTTY"
      },
      "outputs": [],
      "source": [
        "import torch.nn as nn\n",
        "\n",
        "input_size = 28*28\n",
        "num_classes = 10\n",
        "\n",
        "# Logistic regression model\n",
        "model = nn.Linear(input_size, num_classes)"
      ]
    },
    {
      "cell_type": "markdown",
      "metadata": {
        "id": "2ilamccMfTTY"
      },
      "source": [
        "Of course, this model is a lot larger than our previous model in terms of the number of parameters. Let's take a look at the weights and biases."
      ]
    },
    {
      "cell_type": "code",
      "execution_count": 18,
      "metadata": {
        "colab": {
          "base_uri": "https://localhost:8080/"
        },
        "id": "HAj8gVdUfTTY",
        "outputId": "071a51fe-de74-4ddd-8043-2e33f6640ed8"
      },
      "outputs": [
        {
          "name": "stdout",
          "output_type": "stream",
          "text": [
            "torch.Size([10, 784])\n"
          ]
        },
        {
          "data": {
            "text/plain": [
              "Parameter containing:\n",
              "tensor([[ 0.0299, -0.0174,  0.0019,  ..., -0.0149,  0.0327, -0.0314],\n",
              "        [ 0.0064,  0.0005, -0.0230,  ...,  0.0211,  0.0337,  0.0157],\n",
              "        [-0.0032, -0.0036, -0.0258,  ..., -0.0203,  0.0290,  0.0247],\n",
              "        ...,\n",
              "        [-0.0284,  0.0167, -0.0255,  ..., -0.0083, -0.0002, -0.0283],\n",
              "        [ 0.0026, -0.0278,  0.0121,  ..., -0.0340,  0.0051,  0.0286],\n",
              "        [ 0.0268,  0.0181,  0.0008,  ..., -0.0262, -0.0149, -0.0119]],\n",
              "       requires_grad=True)"
            ]
          },
          "execution_count": 18,
          "metadata": {},
          "output_type": "execute_result"
        }
      ],
      "source": [
        "print(model.weight.shape)\n",
        "model.weight"
      ]
    },
    {
      "cell_type": "code",
      "execution_count": 19,
      "metadata": {
        "colab": {
          "base_uri": "https://localhost:8080/"
        },
        "id": "fRnviQ34fTTY",
        "outputId": "a216a3a4-3c06-44e4-f25d-4d7fdbe2ca97"
      },
      "outputs": [
        {
          "name": "stdout",
          "output_type": "stream",
          "text": [
            "torch.Size([10])\n"
          ]
        },
        {
          "data": {
            "text/plain": [
              "Parameter containing:\n",
              "tensor([ 0.0161, -0.0165, -0.0328, -0.0012, -0.0221,  0.0169,  0.0031,  0.0220,\n",
              "         0.0245, -0.0314], requires_grad=True)"
            ]
          },
          "execution_count": 19,
          "metadata": {},
          "output_type": "execute_result"
        }
      ],
      "source": [
        "print(model.bias.shape)\n",
        "model.bias"
      ]
    },
    {
      "cell_type": "markdown",
      "metadata": {
        "id": "Is6yNefafTTY"
      },
      "source": [
        "Although there are a total of 7850 parameters here, conceptually, nothing has changed so far. Let's try and generate some outputs using our model. We'll take the first batch of 100 images from our dataset and pass them into our model."
      ]
    },
    {
      "cell_type": "code",
      "execution_count": 20,
      "metadata": {
        "colab": {
          "base_uri": "https://localhost:8080/",
          "height": 486
        },
        "id": "qIuxYOy3fTTY",
        "outputId": "c978f86e-7f54-4703-9570-6f5ac622a4c9"
      },
      "outputs": [
        {
          "name": "stdout",
          "output_type": "stream",
          "text": [
            "tensor([1, 3, 0, 7, 7, 1, 5, 5, 1, 2, 7, 6, 5, 6, 2, 4, 7, 5, 1, 6, 9, 0, 8, 0,\n",
            "        1, 7, 1, 7, 0, 7, 3, 6, 7, 9, 8, 1, 9, 3, 1, 0, 3, 0, 6, 7, 8, 7, 7, 9,\n",
            "        0, 1, 4, 6, 1, 4, 4, 4, 3, 6, 5, 4, 2, 1, 2, 7, 1, 4, 8, 0, 6, 8, 8, 0,\n",
            "        6, 9, 3, 8, 4, 9, 3, 0, 6, 1, 5, 6, 0, 3, 0, 6, 7, 9, 6, 8, 1, 7, 5, 9,\n",
            "        4, 0, 9, 7, 7, 3, 2, 5, 0, 7, 8, 4, 5, 4, 0, 2, 3, 8, 7, 2, 2, 1, 4, 2,\n",
            "        0, 9, 6, 5, 9, 9, 1, 3])\n",
            "torch.Size([128, 1, 28, 28])\n"
          ]
        },
        {
          "ename": "RuntimeError",
          "evalue": "mat1 and mat2 shapes cannot be multiplied (3584x28 and 784x10)",
          "output_type": "error",
          "traceback": [
            "\u001b[1;31m---------------------------------------------------------------------------\u001b[0m",
            "\u001b[1;31mRuntimeError\u001b[0m                              Traceback (most recent call last)",
            "\u001b[1;32m~\\AppData\\Local\\Temp/ipykernel_18252/1974446091.py\u001b[0m in \u001b[0;36m<module>\u001b[1;34m\u001b[0m\n\u001b[0;32m      2\u001b[0m     \u001b[0mprint\u001b[0m\u001b[1;33m(\u001b[0m\u001b[0mlabels\u001b[0m\u001b[1;33m)\u001b[0m\u001b[1;33m\u001b[0m\u001b[1;33m\u001b[0m\u001b[0m\n\u001b[0;32m      3\u001b[0m     \u001b[0mprint\u001b[0m\u001b[1;33m(\u001b[0m\u001b[0mimages\u001b[0m\u001b[1;33m.\u001b[0m\u001b[0mshape\u001b[0m\u001b[1;33m)\u001b[0m\u001b[1;33m\u001b[0m\u001b[1;33m\u001b[0m\u001b[0m\n\u001b[1;32m----> 4\u001b[1;33m     \u001b[0moutputs\u001b[0m \u001b[1;33m=\u001b[0m \u001b[0mmodel\u001b[0m\u001b[1;33m(\u001b[0m\u001b[0mimages\u001b[0m\u001b[1;33m)\u001b[0m\u001b[1;33m\u001b[0m\u001b[1;33m\u001b[0m\u001b[0m\n\u001b[0m\u001b[0;32m      5\u001b[0m     \u001b[0mprint\u001b[0m\u001b[1;33m(\u001b[0m\u001b[0moutputs\u001b[0m\u001b[1;33m)\u001b[0m\u001b[1;33m\u001b[0m\u001b[1;33m\u001b[0m\u001b[0m\n\u001b[0;32m      6\u001b[0m     \u001b[1;32mbreak\u001b[0m\u001b[1;33m\u001b[0m\u001b[1;33m\u001b[0m\u001b[0m\n",
            "\u001b[1;32mD:\\anaconda\\lib\\site-packages\\torch\\nn\\modules\\module.py\u001b[0m in \u001b[0;36m_call_impl\u001b[1;34m(self, *input, **kwargs)\u001b[0m\n\u001b[0;32m   1100\u001b[0m         if not (self._backward_hooks or self._forward_hooks or self._forward_pre_hooks or _global_backward_hooks\n\u001b[0;32m   1101\u001b[0m                 or _global_forward_hooks or _global_forward_pre_hooks):\n\u001b[1;32m-> 1102\u001b[1;33m             \u001b[1;32mreturn\u001b[0m \u001b[0mforward_call\u001b[0m\u001b[1;33m(\u001b[0m\u001b[1;33m*\u001b[0m\u001b[0minput\u001b[0m\u001b[1;33m,\u001b[0m \u001b[1;33m**\u001b[0m\u001b[0mkwargs\u001b[0m\u001b[1;33m)\u001b[0m\u001b[1;33m\u001b[0m\u001b[1;33m\u001b[0m\u001b[0m\n\u001b[0m\u001b[0;32m   1103\u001b[0m         \u001b[1;31m# Do not call functions when jit is used\u001b[0m\u001b[1;33m\u001b[0m\u001b[1;33m\u001b[0m\u001b[1;33m\u001b[0m\u001b[0m\n\u001b[0;32m   1104\u001b[0m         \u001b[0mfull_backward_hooks\u001b[0m\u001b[1;33m,\u001b[0m \u001b[0mnon_full_backward_hooks\u001b[0m \u001b[1;33m=\u001b[0m \u001b[1;33m[\u001b[0m\u001b[1;33m]\u001b[0m\u001b[1;33m,\u001b[0m \u001b[1;33m[\u001b[0m\u001b[1;33m]\u001b[0m\u001b[1;33m\u001b[0m\u001b[1;33m\u001b[0m\u001b[0m\n",
            "\u001b[1;32mD:\\anaconda\\lib\\site-packages\\torch\\nn\\modules\\linear.py\u001b[0m in \u001b[0;36mforward\u001b[1;34m(self, input)\u001b[0m\n\u001b[0;32m    101\u001b[0m \u001b[1;33m\u001b[0m\u001b[0m\n\u001b[0;32m    102\u001b[0m     \u001b[1;32mdef\u001b[0m \u001b[0mforward\u001b[0m\u001b[1;33m(\u001b[0m\u001b[0mself\u001b[0m\u001b[1;33m,\u001b[0m \u001b[0minput\u001b[0m\u001b[1;33m:\u001b[0m \u001b[0mTensor\u001b[0m\u001b[1;33m)\u001b[0m \u001b[1;33m->\u001b[0m \u001b[0mTensor\u001b[0m\u001b[1;33m:\u001b[0m\u001b[1;33m\u001b[0m\u001b[1;33m\u001b[0m\u001b[0m\n\u001b[1;32m--> 103\u001b[1;33m         \u001b[1;32mreturn\u001b[0m \u001b[0mF\u001b[0m\u001b[1;33m.\u001b[0m\u001b[0mlinear\u001b[0m\u001b[1;33m(\u001b[0m\u001b[0minput\u001b[0m\u001b[1;33m,\u001b[0m \u001b[0mself\u001b[0m\u001b[1;33m.\u001b[0m\u001b[0mweight\u001b[0m\u001b[1;33m,\u001b[0m \u001b[0mself\u001b[0m\u001b[1;33m.\u001b[0m\u001b[0mbias\u001b[0m\u001b[1;33m)\u001b[0m\u001b[1;33m\u001b[0m\u001b[1;33m\u001b[0m\u001b[0m\n\u001b[0m\u001b[0;32m    104\u001b[0m \u001b[1;33m\u001b[0m\u001b[0m\n\u001b[0;32m    105\u001b[0m     \u001b[1;32mdef\u001b[0m \u001b[0mextra_repr\u001b[0m\u001b[1;33m(\u001b[0m\u001b[0mself\u001b[0m\u001b[1;33m)\u001b[0m \u001b[1;33m->\u001b[0m \u001b[0mstr\u001b[0m\u001b[1;33m:\u001b[0m\u001b[1;33m\u001b[0m\u001b[1;33m\u001b[0m\u001b[0m\n",
            "\u001b[1;32mD:\\anaconda\\lib\\site-packages\\torch\\nn\\functional.py\u001b[0m in \u001b[0;36mlinear\u001b[1;34m(input, weight, bias)\u001b[0m\n\u001b[0;32m   1846\u001b[0m     \u001b[1;32mif\u001b[0m \u001b[0mhas_torch_function_variadic\u001b[0m\u001b[1;33m(\u001b[0m\u001b[0minput\u001b[0m\u001b[1;33m,\u001b[0m \u001b[0mweight\u001b[0m\u001b[1;33m,\u001b[0m \u001b[0mbias\u001b[0m\u001b[1;33m)\u001b[0m\u001b[1;33m:\u001b[0m\u001b[1;33m\u001b[0m\u001b[1;33m\u001b[0m\u001b[0m\n\u001b[0;32m   1847\u001b[0m         \u001b[1;32mreturn\u001b[0m \u001b[0mhandle_torch_function\u001b[0m\u001b[1;33m(\u001b[0m\u001b[0mlinear\u001b[0m\u001b[1;33m,\u001b[0m \u001b[1;33m(\u001b[0m\u001b[0minput\u001b[0m\u001b[1;33m,\u001b[0m \u001b[0mweight\u001b[0m\u001b[1;33m,\u001b[0m \u001b[0mbias\u001b[0m\u001b[1;33m)\u001b[0m\u001b[1;33m,\u001b[0m \u001b[0minput\u001b[0m\u001b[1;33m,\u001b[0m \u001b[0mweight\u001b[0m\u001b[1;33m,\u001b[0m \u001b[0mbias\u001b[0m\u001b[1;33m=\u001b[0m\u001b[0mbias\u001b[0m\u001b[1;33m)\u001b[0m\u001b[1;33m\u001b[0m\u001b[1;33m\u001b[0m\u001b[0m\n\u001b[1;32m-> 1848\u001b[1;33m     \u001b[1;32mreturn\u001b[0m \u001b[0mtorch\u001b[0m\u001b[1;33m.\u001b[0m\u001b[0m_C\u001b[0m\u001b[1;33m.\u001b[0m\u001b[0m_nn\u001b[0m\u001b[1;33m.\u001b[0m\u001b[0mlinear\u001b[0m\u001b[1;33m(\u001b[0m\u001b[0minput\u001b[0m\u001b[1;33m,\u001b[0m \u001b[0mweight\u001b[0m\u001b[1;33m,\u001b[0m \u001b[0mbias\u001b[0m\u001b[1;33m)\u001b[0m\u001b[1;33m\u001b[0m\u001b[1;33m\u001b[0m\u001b[0m\n\u001b[0m\u001b[0;32m   1849\u001b[0m \u001b[1;33m\u001b[0m\u001b[0m\n\u001b[0;32m   1850\u001b[0m \u001b[1;33m\u001b[0m\u001b[0m\n",
            "\u001b[1;31mRuntimeError\u001b[0m: mat1 and mat2 shapes cannot be multiplied (3584x28 and 784x10)"
          ]
        }
      ],
      "source": [
        "for images, labels in train_loader:\n",
        "    print(labels)\n",
        "    print(images.shape)\n",
        "    outputs = model(images)\n",
        "    print(outputs)\n",
        "    break"
      ]
    },
    {
      "cell_type": "code",
      "execution_count": 21,
      "metadata": {
        "colab": {
          "base_uri": "https://localhost:8080/"
        },
        "id": "9m-JsBr6lSO8",
        "outputId": "2bdb1a47-341f-4b73-bccc-6a28843e77a6"
      },
      "outputs": [
        {
          "data": {
            "text/plain": [
              "torch.Size([128, 1, 28, 28])"
            ]
          },
          "execution_count": 21,
          "metadata": {},
          "output_type": "execute_result"
        }
      ],
      "source": [
        "images.shape"
      ]
    },
    {
      "cell_type": "code",
      "execution_count": 22,
      "metadata": {
        "colab": {
          "base_uri": "https://localhost:8080/"
        },
        "id": "X3_ktSR1lVJQ",
        "outputId": "8314ed48-2dd1-4f8c-ea4a-5875c13dab68"
      },
      "outputs": [
        {
          "data": {
            "text/plain": [
              "torch.Size([128, 784])"
            ]
          },
          "execution_count": 22,
          "metadata": {},
          "output_type": "execute_result"
        }
      ],
      "source": [
        "images.reshape(128, 784).shape"
      ]
    },
    {
      "cell_type": "markdown",
      "metadata": {
        "id": "-lT2ZhMjfTTY"
      },
      "source": [
        "The code above leads to an error because our input data does not have the right shape. Our images are of the shape 1x28x28, but we need them to be vectors of size 784, i.e., we need to flatten them. We'll use the `.reshape` method of a tensor, which will allow us to efficiently 'view' each image as a flat vector without really creating a copy of the underlying data. To include this additional functionality within our model, we need to define a custom model by extending the `nn.Module` class from PyTorch. \n",
        "\n",
        "A class in Python provides a \"blueprint\" for creating objects. Let's look at an example of defining a new class in Python."
      ]
    },
    {
      "cell_type": "markdown",
      "metadata": {
        "id": "wrI894tlfTTY"
      },
      "source": [
        "You can learn more about Python classes here: https://www.w3schools.com/python/python_classes.asp .\n",
        "\n",
        "Classes can also build upon or _extend_ the functionality of existing classes. Let's extend the `nn.Module` class from PyTorch to define a custom model."
      ]
    },
    {
      "cell_type": "code",
      "execution_count": 23,
      "metadata": {
        "id": "c2HWol7qfTTY"
      },
      "outputs": [],
      "source": [
        "class MnistModel(nn.Module):\n",
        "    def __init__(self):\n",
        "        super().__init__()\n",
        "        self.linear = nn.Linear(input_size, num_classes)\n",
        "        \n",
        "    def forward(self, xb):\n",
        "        xb = xb.reshape(-1, 784)\n",
        "        out = self.linear(xb)\n",
        "        return out\n",
        "    \n",
        "model = MnistModel()"
      ]
    },
    {
      "cell_type": "markdown",
      "metadata": {
        "id": "mZKn3GBFfTTY"
      },
      "source": [
        "Inside the `__init__` constructor method, we instantiate the weights and biases using `nn.Linear`. And inside the `forward` method, which is invoked when we pass a batch of inputs to the model, we flatten the input tensor and pass it into `self.linear`.\n",
        "\n",
        "`xb.reshape(-1, 28*28)` indicates to PyTorch that we want a *view* of the `xb` tensor with two dimensions. The length along the 2nd dimension is 28\\*28 (i.e., 784). One argument to `.reshape` can be set to `-1` (in this case, the first dimension) to let PyTorch figure it out automatically based on the shape of the original tensor.\n",
        "\n",
        "Note that the model no longer has `.weight` and `.bias` attributes (as they are now inside the `.linear` attribute), but it does have a `.parameters` method that returns a list containing the weights and bias."
      ]
    },
    {
      "cell_type": "code",
      "execution_count": 24,
      "metadata": {
        "colab": {
          "base_uri": "https://localhost:8080/"
        },
        "id": "voZF2M_3nVnI",
        "outputId": "beb3ead6-725d-4511-a436-0b2fec492a6b"
      },
      "outputs": [
        {
          "data": {
            "text/plain": [
              "Linear(in_features=784, out_features=10, bias=True)"
            ]
          },
          "execution_count": 24,
          "metadata": {},
          "output_type": "execute_result"
        }
      ],
      "source": [
        "model.linear"
      ]
    },
    {
      "cell_type": "code",
      "execution_count": 25,
      "metadata": {
        "colab": {
          "base_uri": "https://localhost:8080/"
        },
        "id": "JciejPo9fTTY",
        "outputId": "94f004f0-3116-4f20-e874-7ce359ea4b49"
      },
      "outputs": [
        {
          "name": "stdout",
          "output_type": "stream",
          "text": [
            "torch.Size([10, 784]) torch.Size([10])\n"
          ]
        },
        {
          "data": {
            "text/plain": [
              "[Parameter containing:\n",
              " tensor([[-0.0095, -0.0088,  0.0167,  ..., -0.0017, -0.0294, -0.0032],\n",
              "         [-0.0027, -0.0254, -0.0258,  ...,  0.0066,  0.0310,  0.0145],\n",
              "         [-0.0005, -0.0013, -0.0273,  ..., -0.0197,  0.0225,  0.0217],\n",
              "         ...,\n",
              "         [-0.0184, -0.0230, -0.0302,  ...,  0.0076,  0.0226,  0.0235],\n",
              "         [-0.0165, -0.0010,  0.0113,  ...,  0.0292, -0.0006,  0.0240],\n",
              "         [ 0.0232, -0.0350,  0.0287,  ..., -0.0003, -0.0084,  0.0233]],\n",
              "        requires_grad=True),\n",
              " Parameter containing:\n",
              " tensor([-0.0042,  0.0134,  0.0240, -0.0131,  0.0299, -0.0273, -0.0265,  0.0092,\n",
              "          0.0205, -0.0131], requires_grad=True)]"
            ]
          },
          "execution_count": 25,
          "metadata": {},
          "output_type": "execute_result"
        }
      ],
      "source": [
        "print(model.linear.weight.shape, model.linear.bias.shape)\n",
        "list(model.parameters())"
      ]
    },
    {
      "cell_type": "markdown",
      "metadata": {
        "id": "nGvgCQn2fTTY"
      },
      "source": [
        "We can use our new custom model in the same way as before. Let's see if it works."
      ]
    },
    {
      "cell_type": "code",
      "execution_count": 26,
      "metadata": {
        "colab": {
          "base_uri": "https://localhost:8080/"
        },
        "id": "HJ6FGOvYfTTZ",
        "outputId": "f92ea074-4667-40a8-8b0e-903d0b12b55a"
      },
      "outputs": [
        {
          "name": "stdout",
          "output_type": "stream",
          "text": [
            "torch.Size([128, 1, 28, 28])\n",
            "outputs.shape :  torch.Size([128, 10])\n",
            "Sample outputs :\n",
            " tensor([[ 0.0822,  0.0389,  0.0699,  0.1578,  0.2233,  0.0658,  0.0376,  0.3444,\n",
            "          0.0743,  0.1813],\n",
            "        [-0.0033,  0.2288, -0.0393,  0.0586,  0.1555, -0.1160, -0.1640,  0.3356,\n",
            "         -0.3337,  0.1418]])\n"
          ]
        }
      ],
      "source": [
        "for images, labels in train_loader:\n",
        "    print(images.shape)\n",
        "    outputs = model(images)\n",
        "    break\n",
        "\n",
        "print('outputs.shape : ', outputs.shape)\n",
        "print('Sample outputs :\\n', outputs[:2].data)"
      ]
    },
    {
      "cell_type": "markdown",
      "metadata": {
        "id": "9v407S1jfTTZ"
      },
      "source": [
        "For each of the 100 input images, we get 10 outputs, one for each class. As discussed earlier, we'd like these outputs to represent probabilities. Each output row's elements must lie between 0 to 1 and add up to 1, which is not the case. \n",
        "\n",
        "To convert the output rows into probabilities, we use the softmax function, which has the following formula:\n",
        "\n",
        "![softmax](https://i.imgur.com/EAh9jLN.png)\n",
        "\n",
        "First, we replace each element `yi` in an output row by `e^yi`, making all the elements positive. \n",
        "\n",
        "![](https://www.montereyinstitute.org/courses/DevelopmentalMath/COURSE_TEXT2_RESOURCE/U18_L1_T1_text_final_6_files/image001.png)\n",
        "\n",
        "\n",
        "\n",
        "Then, we divide them by their sum to ensure that they add up to 1. The resulting vector can thus be interpreted as probabilities.\n",
        "\n",
        "While it's easy to implement the softmax function (you should try it!), we'll use the implementation that's provided within PyTorch because it works well with multidimensional tensors (a list of output rows in our case)."
      ]
    },
    {
      "cell_type": "code",
      "execution_count": 27,
      "metadata": {
        "id": "Wc7d6WD0fTTZ"
      },
      "outputs": [],
      "source": [
        "import torch.nn.functional as F"
      ]
    },
    {
      "cell_type": "markdown",
      "metadata": {
        "id": "FbYF4auWfTTZ"
      },
      "source": [
        "The softmax function is included in the `torch.nn.functional` package and requires us to specify a dimension along which the function should be applied."
      ]
    },
    {
      "cell_type": "code",
      "execution_count": 28,
      "metadata": {
        "colab": {
          "base_uri": "https://localhost:8080/"
        },
        "id": "6xvjcBVTo14n",
        "outputId": "03dc7b80-bf57-4551-95a8-64a88ca2509a"
      },
      "outputs": [
        {
          "data": {
            "text/plain": [
              "tensor([[ 0.0822,  0.0389,  0.0699,  0.1578,  0.2233,  0.0658,  0.0376,  0.3444,\n",
              "          0.0743,  0.1813],\n",
              "        [-0.0033,  0.2288, -0.0393,  0.0586,  0.1555, -0.1160, -0.1640,  0.3356,\n",
              "         -0.3337,  0.1418]], grad_fn=<SliceBackward0>)"
            ]
          },
          "execution_count": 28,
          "metadata": {},
          "output_type": "execute_result"
        }
      ],
      "source": [
        "outputs[:2]"
      ]
    },
    {
      "cell_type": "code",
      "execution_count": 31,
      "metadata": {
        "colab": {
          "base_uri": "https://localhost:8080/"
        },
        "id": "C3neZ1YGfTTZ",
        "outputId": "463fbd70-2de9-4a9e-8510-0db2f6fc1942"
      },
      "outputs": [
        {
          "name": "stdout",
          "output_type": "stream",
          "text": [
            "Sample probabilities:\n",
            " tensor([[0.0951, 0.0911, 0.0940, 0.1026, 0.1096, 0.0936, 0.0910, 0.1236, 0.0944,\n",
            "         0.1050],\n",
            "        [0.0954, 0.1203, 0.0920, 0.1015, 0.1118, 0.0852, 0.0812, 0.1338, 0.0685,\n",
            "         0.1103]])\n",
            "Sum:  0.9999998807907104\n"
          ]
        }
      ],
      "source": [
        "# Apply softmax for each output row\n",
        "probs = F.softmax(outputs, dim=1)\n",
        "\n",
        "# Look at sample probabilities\n",
        "print(\"Sample probabilities:\\n\", probs[:2].data)\n",
        "\n",
        "# Add up the probabilities of an output row\n",
        "print(\"Sum: \", torch.sum(probs[0]).item())"
      ]
    },
    {
      "cell_type": "markdown",
      "metadata": {
        "id": "k2cgqWGVfTTZ"
      },
      "source": [
        "Finally, we can determine the predicted label for each image by simply choosing the index of the element with the highest probability in each output row. We can do this using `torch.max`, which returns each row's largest element and the corresponding index."
      ]
    },
    {
      "cell_type": "code",
      "execution_count": 32,
      "metadata": {
        "colab": {
          "base_uri": "https://localhost:8080/"
        },
        "id": "1o9a4hAufTTZ",
        "outputId": "0ae66a8d-b11b-46eb-aebd-f60db7c41166"
      },
      "outputs": [
        {
          "name": "stdout",
          "output_type": "stream",
          "text": [
            "tensor([7, 7, 7, 7, 7, 0, 6, 7, 6, 0, 6, 4, 3, 7, 7, 7, 7, 4, 2, 0, 0, 7, 4, 4,\n",
            "        0, 7, 0, 2, 4, 7, 9, 7, 5, 4, 7, 7, 2, 4, 1, 7, 4, 2, 2, 7, 7, 4, 4, 7,\n",
            "        7, 2, 7, 7, 7, 7, 4, 4, 7, 7, 0, 7, 3, 6, 4, 4, 7, 7, 7, 0, 7, 7, 7, 7,\n",
            "        2, 4, 7, 1, 1, 5, 4, 6, 6, 7, 7, 1, 3, 7, 4, 4, 7, 2, 7, 1, 6, 4, 6, 4,\n",
            "        7, 4, 7, 4, 1, 7, 4, 6, 7, 4, 4, 7, 4, 4, 7, 6, 7, 7, 4, 7, 7, 7, 7, 7,\n",
            "        2, 5, 7, 7, 4, 7, 7, 2])\n",
            "tensor([0.1236, 0.1338, 0.1289, 0.1332, 0.1245, 0.1238, 0.1192, 0.1305, 0.1370,\n",
            "        0.1530, 0.1327, 0.1313, 0.1229, 0.1414, 0.1272, 0.1151, 0.1338, 0.1410,\n",
            "        0.1310, 0.1122, 0.1214, 0.1420, 0.1200, 0.1105, 0.1168, 0.1364, 0.1163,\n",
            "        0.1283, 0.1472, 0.1311, 0.1170, 0.1479, 0.1233, 0.1154, 0.1688, 0.1527,\n",
            "        0.1268, 0.1375, 0.1187, 0.1606, 0.1143, 0.1324, 0.1178, 0.1758, 0.1485,\n",
            "        0.1225, 0.1202, 0.1250, 0.1380, 0.1120, 0.1205, 0.1352, 0.1235, 0.1359,\n",
            "        0.1555, 0.1158, 0.1396, 0.1400, 0.1239, 0.1475, 0.1149, 0.1147, 0.1173,\n",
            "        0.1183, 0.1338, 0.1194, 0.1386, 0.1162, 0.1475, 0.1237, 0.1423, 0.1253,\n",
            "        0.1237, 0.1132, 0.1759, 0.1138, 0.1167, 0.1173, 0.1147, 0.1197, 0.1164,\n",
            "        0.1682, 0.1235, 0.1186, 0.1438, 0.1448, 0.1229, 0.1556, 0.1482, 0.1205,\n",
            "        0.1755, 0.1285, 0.1447, 0.1144, 0.1284, 0.1223, 0.1557, 0.1374, 0.1591,\n",
            "        0.1412, 0.1205, 0.1259, 0.1218, 0.1197, 0.1538, 0.1229, 0.1379, 0.1190,\n",
            "        0.1222, 0.1302, 0.1762, 0.1367, 0.1482, 0.1761, 0.1305, 0.1650, 0.1153,\n",
            "        0.1488, 0.1620, 0.1500, 0.1115, 0.1235, 0.1239, 0.1508, 0.1373, 0.1261,\n",
            "        0.1299, 0.1658], grad_fn=<MaxBackward0>)\n"
          ]
        }
      ],
      "source": [
        "max_probs, preds = torch.max(probs, dim=1)\n",
        "print(preds)\n",
        "print(max_probs)"
      ]
    },
    {
      "cell_type": "markdown",
      "metadata": {
        "id": "IGvKME9WfTTZ"
      },
      "source": [
        "The numbers printed above are the predicted labels for the first batch of training images. Let's compare them with the actual labels."
      ]
    },
    {
      "cell_type": "code",
      "execution_count": 33,
      "metadata": {
        "colab": {
          "base_uri": "https://localhost:8080/"
        },
        "id": "TsT85mhffTTZ",
        "outputId": "4ab64227-3cbc-464b-fc50-7732302b4eeb"
      },
      "outputs": [
        {
          "data": {
            "text/plain": [
              "tensor([7, 0, 3, 2, 9, 8, 1, 1, 1, 0, 1, 1, 9, 0, 3, 9, 7, 8, 7, 4, 4, 9, 1, 1,\n",
              "        4, 9, 5, 4, 5, 4, 3, 3, 8, 5, 3, 0, 6, 1, 6, 0, 7, 4, 4, 0, 8, 2, 1, 8,\n",
              "        9, 1, 9, 2, 5, 4, 5, 1, 5, 4, 4, 0, 4, 6, 2, 1, 4, 5, 8, 4, 0, 9, 5, 5,\n",
              "        9, 1, 0, 9, 5, 0, 3, 1, 1, 3, 7, 9, 2, 4, 6, 2, 7, 4, 3, 2, 1, 2, 2, 1,\n",
              "        3, 8, 7, 2, 6, 7, 8, 1, 0, 9, 8, 8, 1, 1, 3, 1, 3, 3, 9, 3, 9, 2, 8, 2,\n",
              "        1, 8, 7, 7, 5, 7, 0, 2])"
            ]
          },
          "execution_count": 33,
          "metadata": {},
          "output_type": "execute_result"
        }
      ],
      "source": [
        "labels"
      ]
    },
    {
      "cell_type": "markdown",
      "metadata": {
        "id": "8AFZgI8SfTTZ"
      },
      "source": [
        "Most of the predicted labels are different from the actual labels. That's because we have started with randomly initialized weights and biases. We need to train the model, i.e., adjust the weights using gradient descent to make better predictions."
      ]
    },
    {
      "cell_type": "markdown",
      "metadata": {
        "id": "FegT9vhlfTTZ"
      },
      "source": [
        "## Evaluation Metric and Loss Function"
      ]
    },
    {
      "cell_type": "markdown",
      "metadata": {
        "id": "MSiZ3KtqfTTZ"
      },
      "source": [
        "Just as with linear regression, we need a way to evaluate how well our model is performing. A natural way to do this would be to find the percentage of labels that were predicted correctly, i.e,. the **accuracy** of the predictions. "
      ]
    },
    {
      "cell_type": "code",
      "execution_count": 34,
      "metadata": {
        "colab": {
          "base_uri": "https://localhost:8080/"
        },
        "id": "wG0IBPVMp3UE",
        "outputId": "6464befc-a3d2-49ca-c407-7f79b2c69564"
      },
      "outputs": [
        {
          "data": {
            "text/plain": [
              "tensor([[ 0.0822,  0.0389,  0.0699,  0.1578,  0.2233,  0.0658,  0.0376,  0.3444,\n",
              "          0.0743,  0.1813],\n",
              "        [-0.0033,  0.2288, -0.0393,  0.0586,  0.1555, -0.1160, -0.1640,  0.3356,\n",
              "         -0.3337,  0.1418]], grad_fn=<SliceBackward0>)"
            ]
          },
          "execution_count": 34,
          "metadata": {},
          "output_type": "execute_result"
        }
      ],
      "source": [
        "outputs[:2]"
      ]
    },
    {
      "cell_type": "code",
      "execution_count": 35,
      "metadata": {
        "colab": {
          "base_uri": "https://localhost:8080/"
        },
        "id": "hHgMnCL4qGDt",
        "outputId": "f2925aa5-8408-4bce-ce1e-80b8269aa045"
      },
      "outputs": [
        {
          "data": {
            "text/plain": [
              "tensor(12)"
            ]
          },
          "execution_count": 35,
          "metadata": {},
          "output_type": "execute_result"
        }
      ],
      "source": [
        "torch.sum(preds == labels)"
      ]
    },
    {
      "cell_type": "code",
      "execution_count": 36,
      "metadata": {
        "id": "11hDOTR1fTTZ"
      },
      "outputs": [],
      "source": [
        "def accuracy(outputs, labels):\n",
        "    _, preds = torch.max(outputs, dim=1)\n",
        "    return torch.tensor(torch.sum(preds == labels).item() / len(preds))"
      ]
    },
    {
      "cell_type": "markdown",
      "metadata": {
        "id": "E258dVOUfTTZ"
      },
      "source": [
        "The `==` operator performs an element-wise comparison of two tensors with the same shape and returns a tensor of the same shape, containing `True` for unequal elements and `False` for equal elements. Passing the result to `torch.sum` returns the number of labels that were predicted correctly. Finally, we divide by the total number of images to get the accuracy. \n",
        "\n",
        "Note that we don't need to apply softmax to the outputs since its results have the same relative order. This is because `e^x` is an increasing function, i.e., if `y1 > y2`, then `e^y1 > e^y2`. The same holds after averaging out the values to get the softmax.\n",
        "\n",
        "Let's calculate the accuracy of the current model on the first batch of data. "
      ]
    },
    {
      "cell_type": "code",
      "execution_count": 37,
      "metadata": {
        "colab": {
          "base_uri": "https://localhost:8080/"
        },
        "id": "HwVAxpZXfTTZ",
        "outputId": "7a398f47-2f26-4c4b-8957-10afbb0ad55e"
      },
      "outputs": [
        {
          "data": {
            "text/plain": [
              "tensor(0.0938)"
            ]
          },
          "execution_count": 37,
          "metadata": {},
          "output_type": "execute_result"
        }
      ],
      "source": [
        "accuracy(outputs, labels)"
      ]
    },
    {
      "cell_type": "code",
      "execution_count": 38,
      "metadata": {
        "colab": {
          "base_uri": "https://localhost:8080/"
        },
        "id": "jEyaxGIBrNFm",
        "outputId": "ddfa8a9a-7d7a-44a6-8dc3-61bd2535fd68"
      },
      "outputs": [
        {
          "data": {
            "text/plain": [
              "tensor([[0.0951, 0.0911, 0.0940,  ..., 0.1236, 0.0944, 0.1050],\n",
              "        [0.0954, 0.1203, 0.0920,  ..., 0.1338, 0.0685, 0.1103],\n",
              "        [0.0916, 0.0990, 0.1086,  ..., 0.1289, 0.1106, 0.0862],\n",
              "        ...,\n",
              "        [0.0879, 0.0951, 0.1022,  ..., 0.1261, 0.0979, 0.0920],\n",
              "        [0.0810, 0.0893, 0.1149,  ..., 0.1299, 0.0967, 0.0975],\n",
              "        [0.0911, 0.0893, 0.1658,  ..., 0.0906, 0.0694, 0.0888]],\n",
              "       grad_fn=<SoftmaxBackward0>)"
            ]
          },
          "execution_count": 38,
          "metadata": {},
          "output_type": "execute_result"
        }
      ],
      "source": [
        "probs"
      ]
    },
    {
      "cell_type": "markdown",
      "metadata": {
        "id": "Te7ORtqVfTTZ"
      },
      "source": [
        "Accuracy is an excellent way for us (humans) to evaluate the model. However, we can't use it as a loss function for optimizing our model using gradient descent for the following reasons:\n",
        "\n",
        "1. It's not a differentiable function. `torch.max` and `==` are both non-continuous and non-differentiable operations, so we can't use the accuracy for computing gradients w.r.t the weights and biases.\n",
        "\n",
        "2. It doesn't take into account the actual probabilities predicted by the model, so it can't provide sufficient feedback for incremental improvements. \n",
        "\n",
        "For these reasons, accuracy is often used as an **evaluation metric** for classification, but not as a loss function. A commonly used loss function for classification problems is the **cross-entropy**, which has the following formula:\n",
        "\n",
        "![cross-entropy](https://i.imgur.com/VDRDl1D.png)\n",
        "\n",
        "While it looks complicated, it's actually quite simple:\n",
        "\n",
        "* For each output row, pick the predicted probability for the correct label. E.g., if the predicted probabilities for an image are `[0.1, 0.3, 0.2, ...]` and the correct label is `1`, we pick the corresponding element `0.3` and ignore the rest.\n",
        "\n",
        "* Then, take the [logarithm](https://en.wikipedia.org/wiki/Logarithm) of the picked probability. If the probability is high, i.e., close to 1, then its logarithm is a very small negative value, close to 0. And if the probability is low (close to 0), then the logarithm is a very large negative value. We also multiply the result by -1, which results is a large postive value of the loss for poor predictions.\n",
        "\n",
        "![](https://www.intmath.com/blog/wp-content/images/2019/05/log10.png)\n",
        "\n",
        "* Finally, take the average of the cross entropy across all the output rows to get the overall loss for a batch of data.\n",
        "\n",
        "Unlike accuracy, cross-entropy is a continuous and differentiable function. It also provides useful feedback for incremental improvements in the model (a slightly higher probability for the correct label leads to a lower loss). These two factors make cross-entropy a better choice for the loss function.\n",
        "\n",
        "As you might expect, PyTorch provides an efficient and tensor-friendly implementation of cross-entropy as part of the `torch.nn.functional` package. Moreover, it also performs softmax internally, so we can directly pass in the model's outputs without converting them into probabilities."
      ]
    },
    {
      "cell_type": "code",
      "execution_count": 39,
      "metadata": {
        "colab": {
          "base_uri": "https://localhost:8080/"
        },
        "id": "AkkyxKR1r8nm",
        "outputId": "b75c6777-5628-4a84-8c30-57b6120ccabb"
      },
      "outputs": [
        {
          "data": {
            "text/plain": [
              "tensor([[ 0.0822,  0.0389,  0.0699,  ...,  0.3444,  0.0743,  0.1813],\n",
              "        [-0.0033,  0.2288, -0.0393,  ...,  0.3356, -0.3337,  0.1418],\n",
              "        [-0.0319,  0.0454,  0.1379,  ...,  0.3096,  0.1559, -0.0928],\n",
              "        ...,\n",
              "        [-0.0898, -0.0102,  0.0611,  ...,  0.2714,  0.0186, -0.0434],\n",
              "        [-0.1462, -0.0485,  0.2032,  ...,  0.3262,  0.0310,  0.0397],\n",
              "        [-0.0391, -0.0591,  0.5597,  ..., -0.0452, -0.3117, -0.0652]],\n",
              "       grad_fn=<AddmmBackward0>)"
            ]
          },
          "execution_count": 39,
          "metadata": {},
          "output_type": "execute_result"
        }
      ],
      "source": [
        "outputs"
      ]
    },
    {
      "cell_type": "code",
      "execution_count": 40,
      "metadata": {
        "id": "OqWUQpANfTTZ"
      },
      "outputs": [],
      "source": [
        "loss_fn = F.cross_entropy"
      ]
    },
    {
      "cell_type": "code",
      "execution_count": 41,
      "metadata": {
        "colab": {
          "base_uri": "https://localhost:8080/"
        },
        "id": "SuESG0hbfTTZ",
        "outputId": "25a5bd6c-802f-40a1-89b3-4bfacaf3591d"
      },
      "outputs": [
        {
          "name": "stdout",
          "output_type": "stream",
          "text": [
            "tensor(2.3406, grad_fn=<NllLossBackward0>)\n"
          ]
        }
      ],
      "source": [
        "# Loss for current batch of data\n",
        "loss = loss_fn(outputs, labels)\n",
        "print(loss)"
      ]
    },
    {
      "cell_type": "markdown",
      "metadata": {
        "id": "wFOtpxUqfTTZ"
      },
      "source": [
        "We know that cross-entropy is the negative logarithm of the predicted probability of the correct label averaged over all training samples. Therefore, one way to interpret the resulting number e.g. `2.23` is look at `e^-2.23` which is around `0.1` as the predicted probability of the correct label, on average. *The lower the loss, The better the model.*"
      ]
    },
    {
      "cell_type": "markdown",
      "metadata": {
        "id": "hTgl76MgfTTZ"
      },
      "source": [
        "## Training the model\n",
        "\n",
        "Now that we have defined the data loaders, model, loss function and optimizer, we are ready to train the model. The training process is identical to linear regression, with the addition of a \"validation phase\" to evaluate the model in each epoch. Here's what it looks like in pseudocode:\n",
        "\n",
        "```\n",
        "for epoch in range(num_epochs):\n",
        "    # Training phase\n",
        "    for batch in train_loader:\n",
        "        # Generate predictions\n",
        "        # Calculate loss\n",
        "        # Compute gradients\n",
        "        # Update weights\n",
        "        # Reset gradients\n",
        "    \n",
        "    # Validation phase\n",
        "    for batch in val_loader:\n",
        "        # Generate predictions\n",
        "        # Calculate loss\n",
        "        # Calculate metrics (accuracy etc.)\n",
        "    # Calculate average validation loss & metrics\n",
        "    \n",
        "    # Log epoch, loss & metrics for inspection\n",
        "```\n",
        "\n",
        "Some parts of the training loop are specific the specific problem we're solving (e.g. loss function, metrics etc.) whereas others are generic and can be applied to any deep learning problem. \n",
        "\n",
        "We'll include the problem-independent parts within a function called `fit`, which will be used to train the model. The problem-specific parts will be implemented by adding new methods to the `nn.Module` class.\n",
        "\n"
      ]
    },
    {
      "cell_type": "code",
      "execution_count": 42,
      "metadata": {
        "id": "1cv7a7ukfTTZ"
      },
      "outputs": [],
      "source": [
        "def fit(epochs, lr, model, train_loader, val_loader, opt_func=torch.optim.SGD):\n",
        "    optimizer = opt_func(model.parameters(), lr)\n",
        "    history = [] # for recording epoch-wise results\n",
        "    \n",
        "    for epoch in range(epochs):\n",
        "        \n",
        "        # Training Phase \n",
        "        for batch in train_loader:\n",
        "            loss = model.training_step(batch)\n",
        "            loss.backward()\n",
        "            optimizer.step()\n",
        "            optimizer.zero_grad()\n",
        "        \n",
        "        # Validation phase\n",
        "        result = evaluate(model, val_loader)\n",
        "        model.epoch_end(epoch, result)\n",
        "        history.append(result)\n",
        "\n",
        "    return history"
      ]
    },
    {
      "cell_type": "markdown",
      "metadata": {
        "id": "TAuhlro7fTTZ"
      },
      "source": [
        "The `fit` function records the validation loss and metric from each epoch. It returns a history of the training, useful for debugging & visualization.\n",
        "\n",
        "Configurations like batch size, learning rate, etc. (called hyperparameters), need to picked in advance while training machine learning models. Choosing the right hyperparameters is critical for training a reasonably accurate model within a reasonable amount of time. It is an active area of research and experimentation in machine learning. Feel free to try different learning rates and see how it affects the training process.\n",
        "\n",
        "\n",
        "Let's define the `evaluate` function, used in the validation phase of `fit`."
      ]
    },
    {
      "cell_type": "code",
      "execution_count": 43,
      "metadata": {
        "id": "N064K5H9ujtQ"
      },
      "outputs": [],
      "source": [
        "l1 = [1, 2, 3, 4, 5]"
      ]
    },
    {
      "cell_type": "code",
      "execution_count": 45,
      "metadata": {
        "colab": {
          "base_uri": "https://localhost:8080/"
        },
        "id": "5W8a_hmFujqa",
        "outputId": "67b4a60f-6c78-4363-82d2-1ad7c375166f"
      },
      "outputs": [
        {
          "data": {
            "text/plain": [
              "[2, 4, 6, 8, 10]"
            ]
          },
          "execution_count": 45,
          "metadata": {},
          "output_type": "execute_result"
        }
      ],
      "source": [
        "l2 = [x*2 for x in l1]\n",
        "l2"
      ]
    },
    {
      "cell_type": "code",
      "execution_count": 46,
      "metadata": {
        "id": "wgWjXs5mfTTZ"
      },
      "outputs": [],
      "source": [
        "def evaluate(model, val_loader):\n",
        "    outputs = [model.validation_step(batch) for batch in val_loader]\n",
        "    return model.validation_epoch_end(outputs)"
      ]
    },
    {
      "cell_type": "markdown",
      "metadata": {
        "id": "FdcKIXvMfTTZ"
      },
      "source": [
        "\n",
        "Finally, let's redefine the `MnistModel` class to include additional methods `training_step`, `validation_step`, `validation_epoch_end`, and `epoch_end` used by `fit` and `evaluate`."
      ]
    },
    {
      "cell_type": "code",
      "execution_count": 50,
      "metadata": {
        "id": "SbJN7ICGfTTZ"
      },
      "outputs": [],
      "source": [
        "class MnistModel(nn.Module):\n",
        "    def __init__(self):\n",
        "        super().__init__()\n",
        "        self.linear = nn.Linear(input_size, num_classes)\n",
        "        \n",
        "    def forward(self, xb):\n",
        "        xb = xb.reshape(-1, 784)\n",
        "        out = self.linear(xb)\n",
        "        return out\n",
        "    \n",
        "    def training_step(self, batch):\n",
        "        images, labels = batch \n",
        "        out = self(images)                  # Generate predictions\n",
        "        loss = F.cross_entropy(out, labels) # Calculate loss\n",
        "        return loss\n",
        "    \n",
        "    def validation_step(self, batch):\n",
        "        images, labels = batch \n",
        "        out = self(images)                    # Generate predictions\n",
        "        loss = F.cross_entropy(out, labels)   # Calculate loss\n",
        "        acc = accuracy(out, labels)           # Calculate accuracy\n",
        "        return {'val_loss': loss, 'val_acc': acc}\n",
        "        \n",
        "    def validation_epoch_end(self, outputs):\n",
        "        batch_losses = [x['val_loss'] for x in outputs]\n",
        "        epoch_loss = torch.stack(batch_losses).mean()   # Combine losses\n",
        "        batch_accs = [x['val_acc'] for x in outputs]\n",
        "        epoch_acc = torch.stack(batch_accs).mean()      # Combine accuracies\n",
        "        return {'val_loss': epoch_loss.item(), 'val_acc': epoch_acc.item()}\n",
        "    \n",
        "    def epoch_end(self, epoch, result):\n",
        "        print(\"Epoch [{}], val_loss: {:.4f}, val_acc: {:.4f}\".format(epoch, result['val_loss'], result['val_acc']))\n",
        "    \n",
        "model = MnistModel()"
      ]
    },
    {
      "cell_type": "markdown",
      "metadata": {
        "id": "Y-omw1RBfTTZ"
      },
      "source": [
        "Before we train the model, let's see how the model performs on the validation set with the initial set of randomly initialized weights & biases.\n",
        "\n"
      ]
    },
    {
      "cell_type": "code",
      "execution_count": 47,
      "metadata": {
        "colab": {
          "base_uri": "https://localhost:8080/"
        },
        "id": "tNUBy9qTfTTZ",
        "outputId": "1c2bef0c-1807-4257-acbf-79faad574df0"
      },
      "outputs": [
        {
          "data": {
            "text/plain": [
              "{'val_loss': 2.3294966220855713, 'val_acc': 0.05211629718542099}"
            ]
          },
          "execution_count": 47,
          "metadata": {},
          "output_type": "execute_result"
        }
      ],
      "source": [
        "result0 = evaluate(model, val_loader)\n",
        "result0"
      ]
    },
    {
      "cell_type": "markdown",
      "metadata": {
        "id": "KapQW0CDfTTZ"
      },
      "source": [
        "The initial accuracy is around 10%, which one might expect from a randomly initialized model (since it has a 1 in 10 chance of getting a label right by guessing randomly).\n",
        "\n",
        "We are now ready to train the model. Let's train for five epochs and look at the results."
      ]
    },
    {
      "cell_type": "code",
      "execution_count": 48,
      "metadata": {
        "colab": {
          "base_uri": "https://localhost:8080/"
        },
        "id": "MQRahsa6fTTZ",
        "outputId": "c1ece9e3-a1e4-42d9-9d79-f86a0c8dcdd6"
      },
      "outputs": [
        {
          "name": "stdout",
          "output_type": "stream",
          "text": [
            "Epoch [0], val_loss: 1.9558, val_acc: 0.6310\n",
            "Epoch [1], val_loss: 1.6846, val_acc: 0.7322\n",
            "Epoch [2], val_loss: 1.4822, val_acc: 0.7634\n",
            "Epoch [3], val_loss: 1.3294, val_acc: 0.7816\n",
            "Epoch [4], val_loss: 1.2120, val_acc: 0.7955\n"
          ]
        }
      ],
      "source": [
        "history1 = fit(5, 0.001, model, train_loader, val_loader)"
      ]
    },
    {
      "cell_type": "markdown",
      "metadata": {
        "id": "5mcIbHuKfTTa"
      },
      "source": [
        "That's a great result! With just 5 epochs of training, our model has reached an accuracy of over 80% on the validation set. Let's see if we can improve that by training for a few more epochs. Try changing the learning rates and number of epochs in each of the cells below."
      ]
    },
    {
      "cell_type": "code",
      "execution_count": 51,
      "metadata": {
        "colab": {
          "base_uri": "https://localhost:8080/"
        },
        "id": "cJvMd9CufTTa",
        "outputId": "c15d370b-4d0b-4644-8ddb-965117f03ba8"
      },
      "outputs": [
        {
          "name": "stdout",
          "output_type": "stream",
          "text": [
            "Epoch [0], val_loss: 1.9497, val_acc: 0.6489\n",
            "Epoch [1], val_loss: 1.6788, val_acc: 0.7299\n",
            "Epoch [2], val_loss: 1.4775, val_acc: 0.7592\n",
            "Epoch [3], val_loss: 1.3259, val_acc: 0.7814\n",
            "Epoch [4], val_loss: 1.2095, val_acc: 0.7932\n"
          ]
        }
      ],
      "source": [
        "history2 = fit(5, 0.001, model, train_loader, val_loader)"
      ]
    },
    {
      "cell_type": "code",
      "execution_count": null,
      "metadata": {
        "colab": {
          "base_uri": "https://localhost:8080/"
        },
        "id": "hON9V8GBfTTa",
        "outputId": "08129337-153d-4eaa-eb13-1ee86089d60f"
      },
      "outputs": [
        {
          "name": "stdout",
          "output_type": "stream",
          "text": [
            "Epoch [0], val_loss: 0.8569, val_acc: 0.8371\n",
            "Epoch [1], val_loss: 0.8254, val_acc: 0.8393\n",
            "Epoch [2], val_loss: 0.7977, val_acc: 0.8420\n",
            "Epoch [3], val_loss: 0.7733, val_acc: 0.8447\n",
            "Epoch [4], val_loss: 0.7515, val_acc: 0.8470\n"
          ]
        }
      ],
      "source": [
        "history3 = fit(5, 0.001, model, train_loader, val_loader)"
      ]
    },
    {
      "cell_type": "code",
      "execution_count": null,
      "metadata": {
        "colab": {
          "base_uri": "https://localhost:8080/"
        },
        "id": "V5ALmwZjfTTa",
        "outputId": "340bd5b7-e290-4cbe-9a62-f5901f09bf63"
      },
      "outputs": [
        {
          "name": "stdout",
          "output_type": "stream",
          "text": [
            "Epoch [0], val_loss: 0.7320, val_acc: 0.8494\n",
            "Epoch [1], val_loss: 0.7144, val_acc: 0.8512\n",
            "Epoch [2], val_loss: 0.6985, val_acc: 0.8528\n",
            "Epoch [3], val_loss: 0.6839, val_acc: 0.8543\n",
            "Epoch [4], val_loss: 0.6706, val_acc: 0.8557\n"
          ]
        }
      ],
      "source": [
        "history4 = fit(5, 0.001, model, train_loader, val_loader)"
      ]
    },
    {
      "cell_type": "markdown",
      "metadata": {
        "id": "sCm1903IfTTa"
      },
      "source": [
        "While the accuracy does continue to increase as we train for more epochs, the improvements get smaller with every epoch. Let's visualize this using a line graph."
      ]
    },
    {
      "cell_type": "code",
      "execution_count": null,
      "metadata": {
        "colab": {
          "base_uri": "https://localhost:8080/",
          "height": 295
        },
        "id": "swNRQSa0fTTa",
        "outputId": "fa726f42-fc0a-4a74-e660-e105192777b4"
      },
      "outputs": [
        {
          "data": {
            "image/png": "[encoded data removed]",
            "text/plain": [
              "<Figure size 432x288 with 1 Axes>"
            ]
          },
          "metadata": {
            "needs_background": "light",
            "tags": []
          },
          "output_type": "display_data"
        }
      ],
      "source": [
        "history = [result0] + history1 + history2 + history3 + history4\n",
        "accuracies = [result['val_acc'] for result in history]\n",
        "plt.plot(accuracies, '-x')\n",
        "plt.xlabel('epoch')\n",
        "plt.ylabel('accuracy')\n",
        "plt.title('Accuracy vs. No. of epochs');"
      ]
    },
    {
      "cell_type": "markdown",
      "metadata": {
        "id": "G-a7zRGxfTTa"
      },
      "source": [
        "It's quite clear from the above picture that the model probably won't cross the accuracy threshold of 90% even after training for a very long time. One possible reason for this is that the learning rate might be too high. The model's parameters may be \"bouncing\" around the optimal set of parameters for the lowest loss. You can try reducing the learning rate and training for a few more epochs to see if it helps.\n",
        "\n",
        "The more likely reason that **the model just isn't powerful enough**. If you remember our initial hypothesis, we have assumed that the output (in this case the class probabilities) is a **linear function** of the input (pixel intensities), obtained by perfoming a matrix multiplication with the weights matrix and adding the bias. This is a fairly weak assumption, as there may not actually exist a linear relationship between the pixel intensities in an image and the digit it represents. While it works reasonably well for a simple dataset like MNIST (getting us to 85% accuracy), we need more sophisticated models that can capture non-linear relationships between image pixels and labels for complex tasks like recognizing everyday objects, animals etc. \n",
        "\n",
        "Let's save our work using `jovian.commit`. Along with the notebook, we can also record some metrics from our training."
      ]
    },
    {
      "cell_type": "markdown",
      "metadata": {
        "id": "HXgOorOIfTTa"
      },
      "source": [
        "## Testing with individual images"
      ]
    },
    {
      "cell_type": "markdown",
      "metadata": {
        "id": "_qUQKIJefTTa"
      },
      "source": [
        "While we have been tracking the overall accuracy of a model so far, it's also a good idea to look at model's results on some sample images. Let's test out our model with some images from the predefined test dataset of 10000 images. We begin by recreating the test dataset with the `ToTensor` transform."
      ]
    },
    {
      "cell_type": "code",
      "execution_count": null,
      "metadata": {
        "id": "KqcHUQK3fTTa"
      },
      "outputs": [],
      "source": [
        "# Define test dataset\n",
        "test_dataset = MNIST(root='data/', \n",
        "                     train=False,\n",
        "                     transform=transforms.ToTensor())"
      ]
    },
    {
      "cell_type": "markdown",
      "metadata": {
        "id": "Sw9J_viefTTa"
      },
      "source": [
        "Here's a sample image from the dataset."
      ]
    },
    {
      "cell_type": "code",
      "execution_count": null,
      "metadata": {
        "colab": {
          "base_uri": "https://localhost:8080/",
          "height": 299
        },
        "id": "yzEdFHq6fTTa",
        "outputId": "4e0faa6b-789f-46c4-9c25-27441665844c"
      },
      "outputs": [
        {
          "name": "stdout",
          "output_type": "stream",
          "text": [
            "Shape: torch.Size([1, 28, 28])\n",
            "Label: 7\n"
          ]
        },
        {
          "data": {
            "image/png": "[encoded data removed]",
            "text/plain": [
              "<Figure size 432x288 with 1 Axes>"
            ]
          },
          "metadata": {
            "needs_background": "light",
            "tags": []
          },
          "output_type": "display_data"
        }
      ],
      "source": [
        "img, label = test_dataset[0]\n",
        "plt.imshow(img[0], cmap='gray')\n",
        "print('Shape:', img.shape)\n",
        "print('Label:', label)"
      ]
    },
    {
      "cell_type": "markdown",
      "metadata": {
        "id": "QgwbsDUjfTTa"
      },
      "source": [
        "Let's define a helper function `predict_image`, which returns the predicted label for a single image tensor."
      ]
    },
    {
      "cell_type": "code",
      "execution_count": null,
      "metadata": {
        "id": "9FfeYQaOfTTa"
      },
      "outputs": [],
      "source": [
        "def predict_image(img, model):\n",
        "    xb = img.unsqueeze(0)\n",
        "    yb = model(xb)\n",
        "    _, preds = torch.max(yb, dim=1)\n",
        "    return preds[0].item()"
      ]
    },
    {
      "cell_type": "markdown",
      "metadata": {
        "id": "9ppgosBYfTTa"
      },
      "source": [
        "`img.unsqueeze` simply adds another dimension at the begining of the 1x28x28 tensor, making it a 1x1x28x28 tensor, which the model views as a batch containing a single image.\n",
        "\n",
        "Let's try it out with a few images."
      ]
    },
    {
      "cell_type": "code",
      "execution_count": null,
      "metadata": {
        "colab": {
          "base_uri": "https://localhost:8080/",
          "height": 282
        },
        "id": "sPNcp52ifTTa",
        "outputId": "3f209ee0-d70e-4631-bc01-bf67165a8347"
      },
      "outputs": [
        {
          "name": "stdout",
          "output_type": "stream",
          "text": [
            "Label: 7 , Predicted: 7\n"
          ]
        },
        {
          "data": {
            "image/png": "[encoded data removed]",
            "text/plain": [
              "<Figure size 432x288 with 1 Axes>"
            ]
          },
          "metadata": {
            "needs_background": "light",
            "tags": []
          },
          "output_type": "display_data"
        }
      ],
      "source": [
        "img, label = test_dataset[0]\n",
        "plt.imshow(img[0], cmap='gray')\n",
        "print('Label:', label, ', Predicted:', predict_image(img, model))"
      ]
    },
    {
      "cell_type": "code",
      "execution_count": null,
      "metadata": {
        "colab": {
          "base_uri": "https://localhost:8080/",
          "height": 282
        },
        "id": "Nrj-w1COfTTa",
        "outputId": "63571287-3d8e-430f-c146-38167c355d2d"
      },
      "outputs": [
        {
          "name": "stdout",
          "output_type": "stream",
          "text": [
            "Label: 0 , Predicted: 0\n"
          ]
        },
        {
          "data": {
            "image/png": "[encoded data removed]",
            "text/plain": [
              "<Figure size 432x288 with 1 Axes>"
            ]
          },
          "metadata": {
            "needs_background": "light",
            "tags": []
          },
          "output_type": "display_data"
        }
      ],
      "source": [
        "img, label = test_dataset[10]\n",
        "plt.imshow(img[0], cmap='gray')\n",
        "print('Label:', label, ', Predicted:', predict_image(img, model))"
      ]
    },
    {
      "cell_type": "code",
      "execution_count": null,
      "metadata": {
        "colab": {
          "base_uri": "https://localhost:8080/",
          "height": 282
        },
        "id": "EPrF7gB4fTTb",
        "outputId": "f315cb3c-7eb9-47aa-95ee-c4e917f28bda"
      },
      "outputs": [
        {
          "name": "stdout",
          "output_type": "stream",
          "text": [
            "Label: 9 , Predicted: 4\n"
          ]
        },
        {
          "data": {
            "image/png": "[encoded data removed]",
            "text/plain": [
              "<Figure size 432x288 with 1 Axes>"
            ]
          },
          "metadata": {
            "needs_background": "light",
            "tags": []
          },
          "output_type": "display_data"
        }
      ],
      "source": [
        "img, label = test_dataset[193]\n",
        "plt.imshow(img[0], cmap='gray')\n",
        "print('Label:', label, ', Predicted:', predict_image(img, model))"
      ]
    },
    {
      "cell_type": "code",
      "execution_count": null,
      "metadata": {
        "colab": {
          "base_uri": "https://localhost:8080/",
          "height": 282
        },
        "id": "eetYJdoFfTTb",
        "outputId": "da8c6613-355a-4479-cb49-574236d2de5c"
      },
      "outputs": [
        {
          "name": "stdout",
          "output_type": "stream",
          "text": [
            "Label: 2 , Predicted: 8\n"
          ]
        },
        {
          "data": {
            "image/png": "[encoded data removed]",
            "text/plain": [
              "<Figure size 432x288 with 1 Axes>"
            ]
          },
          "metadata": {
            "needs_background": "light",
            "tags": []
          },
          "output_type": "display_data"
        }
      ],
      "source": [
        "img, label = test_dataset[1839]\n",
        "plt.imshow(img[0], cmap='gray')\n",
        "print('Label:', label, ', Predicted:', predict_image(img, model))"
      ]
    },
    {
      "cell_type": "markdown",
      "metadata": {
        "id": "jQ6Wsk4TfTTb"
      },
      "source": [
        "Identifying where our model performs poorly can help us improve the model, by collecting more training data, increasing/decreasing the complexity of the model, and changing the hypeparameters.\n",
        "\n",
        "As a final step, let's also look at the overall loss and accuracy of the model on the test set."
      ]
    },
    {
      "cell_type": "code",
      "execution_count": null,
      "metadata": {
        "colab": {
          "base_uri": "https://localhost:8080/"
        },
        "id": "6bdjaeG-fTTb",
        "outputId": "c4479ab7-ee92-46d4-ac0d-9217d6873f43"
      },
      "outputs": [
        {
          "data": {
            "text/plain": [
              "{'val_acc': 0.86083984375, 'val_loss': 0.6424765586853027}"
            ]
          },
          "execution_count": 79,
          "metadata": {
            "tags": []
          },
          "output_type": "execute_result"
        }
      ],
      "source": [
        "test_loader = DataLoader(test_dataset, batch_size=256)\n",
        "result = evaluate(model, test_loader)\n",
        "result"
      ]
    },
    {
      "cell_type": "markdown",
      "metadata": {
        "id": "pfe2IzF3fTTb"
      },
      "source": [
        "We expect this to be similar to the accuracy/loss on the validation set. If not, we might need a better validation set that has similar data and distribution as the test set (which often comes from real world data)."
      ]
    },
    {
      "cell_type": "markdown",
      "metadata": {
        "id": "TqC3HEZJfTTb"
      },
      "source": [
        "## Saving and loading the model"
      ]
    },
    {
      "cell_type": "markdown",
      "metadata": {
        "id": "KyE7vx_zfTTb"
      },
      "source": [
        "Since we've trained our model for a long time and achieved a resonable accuracy, it would be a good idea to save the weights and bias matrices to disk, so that we can reuse the model later and avoid retraining from scratch. Here's how you can save the model."
      ]
    },
    {
      "cell_type": "code",
      "execution_count": null,
      "metadata": {
        "id": "xESC-106fTTb"
      },
      "outputs": [],
      "source": [
        "torch.save(model.state_dict(), 'mnist-logistic.pth')"
      ]
    },
    {
      "cell_type": "markdown",
      "metadata": {
        "id": "CAHSyFLPfTTb"
      },
      "source": [
        "The `.state_dict` method returns an `OrderedDict` containing all the weights and bias matrices mapped to the right attributes of the model."
      ]
    },
    {
      "cell_type": "code",
      "execution_count": null,
      "metadata": {
        "colab": {
          "base_uri": "https://localhost:8080/"
        },
        "id": "elbp48SCfTTb",
        "outputId": "84f92a49-910c-4466-8b96-ab267026f3ac"
      },
      "outputs": [
        {
          "data": {
            "text/plain": [
              "OrderedDict([('linear.weight',\n",
              "              tensor([[ 0.0057,  0.0222, -0.0220,  ..., -0.0021, -0.0115, -0.0308],\n",
              "                      [-0.0353,  0.0083, -0.0307,  ...,  0.0345, -0.0087,  0.0200],\n",
              "                      [ 0.0104,  0.0158,  0.0225,  ...,  0.0255,  0.0227, -0.0346],\n",
              "                      ...,\n",
              "                      [-0.0097, -0.0173, -0.0154,  ...,  0.0025, -0.0274, -0.0276],\n",
              "                      [ 0.0272, -0.0156,  0.0029,  ...,  0.0217,  0.0286, -0.0114],\n",
              "                      [-0.0018, -0.0293, -0.0191,  ..., -0.0297,  0.0291,  0.0212]])),\n",
              "             ('linear.bias',\n",
              "              tensor([-0.0322,  0.1078, -0.0008, -0.0159,  0.0346,  0.0235, -0.0047,  0.0277,\n",
              "                      -0.0684, -0.0356]))])"
            ]
          },
          "execution_count": 80,
          "metadata": {
            "tags": []
          },
          "output_type": "execute_result"
        }
      ],
      "source": [
        "model.state_dict()"
      ]
    },
    {
      "cell_type": "markdown",
      "metadata": {
        "id": "Qc9kRTDpfTTb"
      },
      "source": [
        "To load the model weights, we can instante a new object of the class `MnistModel`, and use the `.load_state_dict` method."
      ]
    },
    {
      "cell_type": "code",
      "execution_count": null,
      "metadata": {
        "id": "OO666r7_1rbW"
      },
      "outputs": [],
      "source": [
        "model2 = MnistModel()"
      ]
    },
    {
      "cell_type": "code",
      "execution_count": null,
      "metadata": {
        "colab": {
          "base_uri": "https://localhost:8080/"
        },
        "id": "aUvYwe4Q1six",
        "outputId": "63adc692-57b8-458d-a926-dc969bf491db"
      },
      "outputs": [
        {
          "data": {
            "text/plain": [
              "OrderedDict([('linear.weight',\n",
              "              tensor([[-0.0168, -0.0088, -0.0010,  ..., -0.0233,  0.0253,  0.0161],\n",
              "                      [-0.0139, -0.0039,  0.0011,  ...,  0.0178, -0.0125, -0.0090],\n",
              "                      [-0.0341, -0.0001,  0.0089,  ..., -0.0282,  0.0181,  0.0251],\n",
              "                      ...,\n",
              "                      [-0.0274, -0.0289, -0.0180,  ..., -0.0197, -0.0173,  0.0262],\n",
              "                      [ 0.0318,  0.0125,  0.0178,  ..., -0.0192,  0.0083, -0.0032],\n",
              "                      [-0.0264, -0.0261,  0.0058,  ..., -0.0005,  0.0135,  0.0287]])),\n",
              "             ('linear.bias',\n",
              "              tensor([ 0.0014, -0.0254, -0.0085, -0.0081, -0.0333,  0.0109, -0.0128, -0.0342,\n",
              "                       0.0204,  0.0232]))])"
            ]
          },
          "execution_count": 83,
          "metadata": {
            "tags": []
          },
          "output_type": "execute_result"
        }
      ],
      "source": [
        "model2.state_dict()"
      ]
    },
    {
      "cell_type": "code",
      "execution_count": null,
      "metadata": {
        "colab": {
          "base_uri": "https://localhost:8080/"
        },
        "id": "gHac9s6e1vyS",
        "outputId": "bd0ef06a-ded0-4d91-c0a1-620b310bc89e"
      },
      "outputs": [
        {
          "data": {
            "text/plain": [
              "{'val_acc': 0.08339843899011612, 'val_loss': 2.325232744216919}"
            ]
          },
          "execution_count": 84,
          "metadata": {
            "tags": []
          },
          "output_type": "execute_result"
        }
      ],
      "source": [
        "evaluate(model2, test_loader)"
      ]
    },
    {
      "cell_type": "code",
      "execution_count": null,
      "metadata": {
        "colab": {
          "base_uri": "https://localhost:8080/"
        },
        "id": "bvR1g8ggfTTb",
        "outputId": "2cb76bb5-b26a-472c-d2b3-3f872ebb8c7a"
      },
      "outputs": [
        {
          "data": {
            "text/plain": [
              "OrderedDict([('linear.weight',\n",
              "              tensor([[ 0.0057,  0.0222, -0.0220,  ..., -0.0021, -0.0115, -0.0308],\n",
              "                      [-0.0353,  0.0083, -0.0307,  ...,  0.0345, -0.0087,  0.0200],\n",
              "                      [ 0.0104,  0.0158,  0.0225,  ...,  0.0255,  0.0227, -0.0346],\n",
              "                      ...,\n",
              "                      [-0.0097, -0.0173, -0.0154,  ...,  0.0025, -0.0274, -0.0276],\n",
              "                      [ 0.0272, -0.0156,  0.0029,  ...,  0.0217,  0.0286, -0.0114],\n",
              "                      [-0.0018, -0.0293, -0.0191,  ..., -0.0297,  0.0291,  0.0212]])),\n",
              "             ('linear.bias',\n",
              "              tensor([-0.0322,  0.1078, -0.0008, -0.0159,  0.0346,  0.0235, -0.0047,  0.0277,\n",
              "                      -0.0684, -0.0356]))])"
            ]
          },
          "execution_count": 85,
          "metadata": {
            "tags": []
          },
          "output_type": "execute_result"
        }
      ],
      "source": [
        "model2.load_state_dict(torch.load('mnist-logistic.pth'))\n",
        "model2.state_dict()"
      ]
    },
    {
      "cell_type": "markdown",
      "metadata": {
        "id": "zhjBm4BMfTTb"
      },
      "source": [
        "Just as a sanity check, let's verify that this model has the same loss and accuracy on the test set as before."
      ]
    },
    {
      "cell_type": "code",
      "execution_count": null,
      "metadata": {
        "colab": {
          "base_uri": "https://localhost:8080/"
        },
        "id": "UynZ4aSLfTTb",
        "outputId": "ed0184c3-6239-4610-b707-09b2e4cbd49d"
      },
      "outputs": [
        {
          "data": {
            "text/plain": [
              "{'val_acc': 0.86083984375, 'val_loss': 0.6424765586853027}"
            ]
          },
          "execution_count": 86,
          "metadata": {
            "tags": []
          },
          "output_type": "execute_result"
        }
      ],
      "source": [
        "test_loader = DataLoader(test_dataset, batch_size=256)\n",
        "result = evaluate(model2, test_loader)\n",
        "result"
      ]
    },
    {
      "cell_type": "markdown",
      "metadata": {
        "id": "BRMNaQUWfTTb"
      },
      "source": [
        "As a final step, we can save and commit our work using the `jovian` library. Along with the notebook, we can also attach the weights of our trained model, so that we can use it later."
      ]
    },
    {
      "cell_type": "code",
      "execution_count": null,
      "metadata": {
        "id": "p1cuCZ6afTTb",
        "scrolled": true
      },
      "outputs": [],
      "source": [
        "jovian.commit(project='03-logistic-regression', environment=None, outputs=['mnist-logistic.pth'])"
      ]
    },
    {
      "cell_type": "markdown",
      "metadata": {
        "id": "r1F3EHgSfTTb"
      },
      "source": [
        "## Exercises\n",
        "\n",
        "Try out the following exercises to apply the concepts and techniques you have learned so far:\n",
        "\n",
        "* Coding exercises on end-to-end model training: https://jovian.ai/aakashns/02-insurance-linear-regression\n",
        "* Starter notebook for logistic regression projects: https://jovian.ai/aakashns/mnist-logistic-minimal\n",
        "* Starter notebook for linear regression projects: https://jovian.ai/aakashns/housing-linear-minimal\n",
        "\n",
        "Training great machine learning models within a short time takes practice and experience. Try experimenting with different datasets, models and hyperparameters, it's the best way to acquire this skill."
      ]
    },
    {
      "cell_type": "markdown",
      "metadata": {
        "id": "_Q8EnndBfTTb"
      },
      "source": [
        "## Summary and Further Reading\n",
        "\n",
        "We've created a fairly sophisticated training and evaluation pipeline in this tutorial. Here's a list of the topics we've covered:\n",
        "\n",
        "* Working with images in PyTorch (using the MNIST dataset)\n",
        "* Splitting a dataset into training, validation and test sets\n",
        "* Creating PyTorch models with custom logic by extending the `nn.Module` class\n",
        "* Interpreting model ouputs as probabilities using softmax, and picking predicted labels\n",
        "* Picking a good evaluation metric (accuracy) and loss function (cross entropy) for classification problems\n",
        "* Setting up a training loop that also evaluates the model using the validation set\n",
        "* Testing the model manually on randomly picked examples \n",
        "* Saving and loading model checkpoints to avoid retraining from scratch\n",
        "\n",
        "There's a lot of scope to experiment here, and I encourage you to use the interactive nature of Jupyter to play around with the various parameters. Here are a few ideas:\n",
        "\n",
        "* Try making the validation set smaller or larger, and see how it affects the model.\n",
        "* Try changing the learning rate and see if you can achieve the same accuracy in fewer epochs.\n",
        "* Try changing the batch size. What happens if you use too high a batch size, or too low?\n",
        "* Modify the `fit` function to also track the overall loss and accuracy on the training set, and see how it compares with the validation loss/accuracy. Can you explain why it's lower/higher?\n",
        "* Train with a small subset of the data, and see if you can reach a similar level of accuracy.\n",
        "* Try building a model for a different dataset, such as the [CIFAR10 or CIFAR100 datasets](https://www.cs.toronto.edu/~kriz/cifar.html).\n",
        "\n",
        "Here are some references for further reading:\n",
        "* For a more mathematical treatment, see the popular [Machine Learning](https://www.coursera.org/lecture/machine-learning/classification-wlPeP) course on Coursera. Most of the images used in this tutorial series have been taken from this course.\n",
        "* The training loop defined in this notebook was inspired from [FastAI development notebooks](https://github.com/fastai/fastai_docs/blob/master/dev_nb/001a_nn_basics.ipynb) which contain a wealth of other useful stuff if you can read and understand the code.\n",
        "* For a deep dive into softmax and cross entropy, see [this blog post on DeepNotes](https://deepnotes.io/softmax-crossentropy).\n",
        "\n",
        "\n",
        "With this we complete our discussion of logistic regression, and we're ready to move on to the next topic: [Training Deep Neural Networks on a GPU](https://jovian.ai/aakashns/04-feedforward-nn)!"
      ]
    }
  ],
  "metadata": {
    "colab": {
      "collapsed_sections": [
        "HEyJshGxfTTY",
        "hTgl76MgfTTZ",
        "HXgOorOIfTTa",
        "TqC3HEZJfTTb",
        "r1F3EHgSfTTb",
        "_Q8EnndBfTTb"
      ],
      "include_colab_link": true,
      "name": "03-logistic-regression.ipynb",
      "provenance": []
    },
    "kernelspec": {
      "display_name": "Python 3",
      "language": "python",
      "name": "python3"
    },
    "language_info": {
      "codemirror_mode": {
        "name": "ipython",
        "version": 3
      },
      "file_extension": ".py",
      "mimetype": "text/x-python",
      "name": "python",
      "nbconvert_exporter": "python",
      "pygments_lexer": "ipython3",
      "version": "3.8.12"
    },
    "varInspector": {
      "cols": {
        "lenName": 16,
        "lenType": 16,
        "lenVar": 40
      },
      "kernels_config": {
        "python": {
          "delete_cmd_postfix": "",
          "delete_cmd_prefix": "del ",
          "library": "var_list.py",
          "varRefreshCmd": "print(var_dic_list())"
        },
        "r": {
          "delete_cmd_postfix": ") ",
          "delete_cmd_prefix": "rm(",
          "library": "var_list.r",
          "varRefreshCmd": "cat(var_dic_list()) "
        }
      },
      "types_to_exclude": [
        "module",
        "function",
        "builtin_function_or_method",
        "instance",
        "_Feature"
      ],
      "window_display": false
    },
    "widgets": {
      "application/vnd.jupyter.widget-state+json": {
        "0e2785a35c7d48d599aa463d2113dd94": {
          "model_module": "@jupyter-widgets/controls",
          "model_module_version": "1.5.0",
          "model_name": "HBoxModel",
          "state": {
            "_dom_classes": [],
            "_model_module": "@jupyter-widgets/controls",
            "_model_module_version": "1.5.0",
            "_model_name": "HBoxModel",
            "_view_count": null,
            "_view_module": "@jupyter-widgets/controls",
            "_view_module_version": "1.5.0",
            "_view_name": "HBoxView",
            "box_style": "",
            "children": [
              "IPY_MODEL_ddd700a575744f26bab1c1dbcf6f9aef",
              "IPY_MODEL_bdc52524eb5f4e58a0e54b3cad0567a7",
              "IPY_MODEL_49b123bc2089400db875b686e72f2087"
            ],
            "layout": "IPY_MODEL_e58db8f66499485586335448f204a3a8"
          }
        },
        "12f082948d9c42fcb818325ebe7e09fd": {
          "model_module": "@jupyter-widgets/base",
          "model_module_version": "1.2.0",
          "model_name": "LayoutModel",
          "state": {
            "_model_module": "@jupyter-widgets/base",
            "_model_module_version": "1.2.0",
            "_model_name": "LayoutModel",
            "_view_count": null,
            "_view_module": "@jupyter-widgets/base",
            "_view_module_version": "1.2.0",
            "_view_name": "LayoutView",
            "align_content": null,
            "align_items": null,
            "align_self": null,
            "border": null,
            "bottom": null,
            "display": null,
            "flex": null,
            "flex_flow": null,
            "grid_area": null,
            "grid_auto_columns": null,
            "grid_auto_flow": null,
            "grid_auto_rows": null,
            "grid_column": null,
            "grid_gap": null,
            "grid_row": null,
            "grid_template_areas": null,
            "grid_template_columns": null,
            "grid_template_rows": null,
            "height": null,
            "justify_content": null,
            "justify_items": null,
            "left": null,
            "margin": null,
            "max_height": null,
            "max_width": null,
            "min_height": null,
            "min_width": null,
            "object_fit": null,
            "object_position": null,
            "order": null,
            "overflow": null,
            "overflow_x": null,
            "overflow_y": null,
            "padding": null,
            "right": null,
            "top": null,
            "visibility": null,
            "width": null
          }
        },
        "29d6e3129b1f42ea99dfc2c0f552c502": {
          "model_module": "@jupyter-widgets/controls",
          "model_module_version": "1.5.0",
          "model_name": "ProgressStyleModel",
          "state": {
            "_model_module": "@jupyter-widgets/controls",
            "_model_module_version": "1.5.0",
            "_model_name": "ProgressStyleModel",
            "_view_count": null,
            "_view_module": "@jupyter-widgets/base",
            "_view_module_version": "1.2.0",
            "_view_name": "StyleView",
            "bar_color": null,
            "description_width": ""
          }
        },
        "2e211c17ec864dbda2554f51939c2197": {
          "model_module": "@jupyter-widgets/base",
          "model_module_version": "1.2.0",
          "model_name": "LayoutModel",
          "state": {
            "_model_module": "@jupyter-widgets/base",
            "_model_module_version": "1.2.0",
            "_model_name": "LayoutModel",
            "_view_count": null,
            "_view_module": "@jupyter-widgets/base",
            "_view_module_version": "1.2.0",
            "_view_name": "LayoutView",
            "align_content": null,
            "align_items": null,
            "align_self": null,
            "border": null,
            "bottom": null,
            "display": null,
            "flex": null,
            "flex_flow": null,
            "grid_area": null,
            "grid_auto_columns": null,
            "grid_auto_flow": null,
            "grid_auto_rows": null,
            "grid_column": null,
            "grid_gap": null,
            "grid_row": null,
            "grid_template_areas": null,
            "grid_template_columns": null,
            "grid_template_rows": null,
            "height": null,
            "justify_content": null,
            "justify_items": null,
            "left": null,
            "margin": null,
            "max_height": null,
            "max_width": null,
            "min_height": null,
            "min_width": null,
            "object_fit": null,
            "object_position": null,
            "order": null,
            "overflow": null,
            "overflow_x": null,
            "overflow_y": null,
            "padding": null,
            "right": null,
            "top": null,
            "visibility": null,
            "width": null
          }
        },
        "35e5b97bed024498bfd8ebb4fb7373a1": {
          "model_module": "@jupyter-widgets/base",
          "model_module_version": "1.2.0",
          "model_name": "LayoutModel",
          "state": {
            "_model_module": "@jupyter-widgets/base",
            "_model_module_version": "1.2.0",
            "_model_name": "LayoutModel",
            "_view_count": null,
            "_view_module": "@jupyter-widgets/base",
            "_view_module_version": "1.2.0",
            "_view_name": "LayoutView",
            "align_content": null,
            "align_items": null,
            "align_self": null,
            "border": null,
            "bottom": null,
            "display": null,
            "flex": null,
            "flex_flow": null,
            "grid_area": null,
            "grid_auto_columns": null,
            "grid_auto_flow": null,
            "grid_auto_rows": null,
            "grid_column": null,
            "grid_gap": null,
            "grid_row": null,
            "grid_template_areas": null,
            "grid_template_columns": null,
            "grid_template_rows": null,
            "height": null,
            "justify_content": null,
            "justify_items": null,
            "left": null,
            "margin": null,
            "max_height": null,
            "max_width": null,
            "min_height": null,
            "min_width": null,
            "object_fit": null,
            "object_position": null,
            "order": null,
            "overflow": null,
            "overflow_x": null,
            "overflow_y": null,
            "padding": null,
            "right": null,
            "top": null,
            "visibility": null,
            "width": null
          }
        },
        "386da8a107cc4972b6659478a41114f8": {
          "model_module": "@jupyter-widgets/base",
          "model_module_version": "1.2.0",
          "model_name": "LayoutModel",
          "state": {
            "_model_module": "@jupyter-widgets/base",
            "_model_module_version": "1.2.0",
            "_model_name": "LayoutModel",
            "_view_count": null,
            "_view_module": "@jupyter-widgets/base",
            "_view_module_version": "1.2.0",
            "_view_name": "LayoutView",
            "align_content": null,
            "align_items": null,
            "align_self": null,
            "border": null,
            "bottom": null,
            "display": null,
            "flex": null,
            "flex_flow": null,
            "grid_area": null,
            "grid_auto_columns": null,
            "grid_auto_flow": null,
            "grid_auto_rows": null,
            "grid_column": null,
            "grid_gap": null,
            "grid_row": null,
            "grid_template_areas": null,
            "grid_template_columns": null,
            "grid_template_rows": null,
            "height": null,
            "justify_content": null,
            "justify_items": null,
            "left": null,
            "margin": null,
            "max_height": null,
            "max_width": null,
            "min_height": null,
            "min_width": null,
            "object_fit": null,
            "object_position": null,
            "order": null,
            "overflow": null,
            "overflow_x": null,
            "overflow_y": null,
            "padding": null,
            "right": null,
            "top": null,
            "visibility": null,
            "width": null
          }
        },
        "38c4a9a6f83d4fceac12055ac96e401d": {
          "model_module": "@jupyter-widgets/base",
          "model_module_version": "1.2.0",
          "model_name": "LayoutModel",
          "state": {
            "_model_module": "@jupyter-widgets/base",
            "_model_module_version": "1.2.0",
            "_model_name": "LayoutModel",
            "_view_count": null,
            "_view_module": "@jupyter-widgets/base",
            "_view_module_version": "1.2.0",
            "_view_name": "LayoutView",
            "align_content": null,
            "align_items": null,
            "align_self": null,
            "border": null,
            "bottom": null,
            "display": null,
            "flex": null,
            "flex_flow": null,
            "grid_area": null,
            "grid_auto_columns": null,
            "grid_auto_flow": null,
            "grid_auto_rows": null,
            "grid_column": null,
            "grid_gap": null,
            "grid_row": null,
            "grid_template_areas": null,
            "grid_template_columns": null,
            "grid_template_rows": null,
            "height": null,
            "justify_content": null,
            "justify_items": null,
            "left": null,
            "margin": null,
            "max_height": null,
            "max_width": null,
            "min_height": null,
            "min_width": null,
            "object_fit": null,
            "object_position": null,
            "order": null,
            "overflow": null,
            "overflow_x": null,
            "overflow_y": null,
            "padding": null,
            "right": null,
            "top": null,
            "visibility": null,
            "width": null
          }
        },
        "3ac68a7dc4674690b0c33f3a80a3532b": {
          "model_module": "@jupyter-widgets/base",
          "model_module_version": "1.2.0",
          "model_name": "LayoutModel",
          "state": {
            "_model_module": "@jupyter-widgets/base",
            "_model_module_version": "1.2.0",
            "_model_name": "LayoutModel",
            "_view_count": null,
            "_view_module": "@jupyter-widgets/base",
            "_view_module_version": "1.2.0",
            "_view_name": "LayoutView",
            "align_content": null,
            "align_items": null,
            "align_self": null,
            "border": null,
            "bottom": null,
            "display": null,
            "flex": null,
            "flex_flow": null,
            "grid_area": null,
            "grid_auto_columns": null,
            "grid_auto_flow": null,
            "grid_auto_rows": null,
            "grid_column": null,
            "grid_gap": null,
            "grid_row": null,
            "grid_template_areas": null,
            "grid_template_columns": null,
            "grid_template_rows": null,
            "height": null,
            "justify_content": null,
            "justify_items": null,
            "left": null,
            "margin": null,
            "max_height": null,
            "max_width": null,
            "min_height": null,
            "min_width": null,
            "object_fit": null,
            "object_position": null,
            "order": null,
            "overflow": null,
            "overflow_x": null,
            "overflow_y": null,
            "padding": null,
            "right": null,
            "top": null,
            "visibility": null,
            "width": null
          }
        },
        "49b123bc2089400db875b686e72f2087": {
          "model_module": "@jupyter-widgets/controls",
          "model_module_version": "1.5.0",
          "model_name": "HTMLModel",
          "state": {
            "_dom_classes": [],
            "_model_module": "@jupyter-widgets/controls",
            "_model_module_version": "1.5.0",
            "_model_name": "HTMLModel",
            "_view_count": null,
            "_view_module": "@jupyter-widgets/controls",
            "_view_module_version": "1.5.0",
            "_view_name": "HTMLView",
            "description": "",
            "description_tooltip": null,
            "layout": "IPY_MODEL_dceb1e82ad44436494652d638e7942b0",
            "placeholder": "​",
            "style": "IPY_MODEL_82ab12cf436949118f46fc56a9830436",
            "value": " 5120/? [00:00&lt;00:00, 114235.15it/s]"
          }
        },
        "4c7e36fe0bc648488abc511f290fb94a": {
          "model_module": "@jupyter-widgets/controls",
          "model_module_version": "1.5.0",
          "model_name": "DescriptionStyleModel",
          "state": {
            "_model_module": "@jupyter-widgets/controls",
            "_model_module_version": "1.5.0",
            "_model_name": "DescriptionStyleModel",
            "_view_count": null,
            "_view_module": "@jupyter-widgets/base",
            "_view_module_version": "1.2.0",
            "_view_name": "StyleView",
            "description_width": ""
          }
        },
        "5196846131664ead9d4bb8dc0c1504f1": {
          "model_module": "@jupyter-widgets/controls",
          "model_module_version": "1.5.0",
          "model_name": "DescriptionStyleModel",
          "state": {
            "_model_module": "@jupyter-widgets/controls",
            "_model_module_version": "1.5.0",
            "_model_name": "DescriptionStyleModel",
            "_view_count": null,
            "_view_module": "@jupyter-widgets/base",
            "_view_module_version": "1.2.0",
            "_view_name": "StyleView",
            "description_width": ""
          }
        },
        "562eee762a1e4abb883665c25b0efe94": {
          "model_module": "@jupyter-widgets/controls",
          "model_module_version": "1.5.0",
          "model_name": "HTMLModel",
          "state": {
            "_dom_classes": [],
            "_model_module": "@jupyter-widgets/controls",
            "_model_module_version": "1.5.0",
            "_model_name": "HTMLModel",
            "_view_count": null,
            "_view_module": "@jupyter-widgets/controls",
            "_view_module_version": "1.5.0",
            "_view_name": "HTMLView",
            "description": "",
            "description_tooltip": null,
            "layout": "IPY_MODEL_38c4a9a6f83d4fceac12055ac96e401d",
            "placeholder": "​",
            "style": "IPY_MODEL_5cb8dd78f16c4aee87ef71d850472f39",
            "value": ""
          }
        },
        "5b562b6afa5f4505b760bfcf2111880d": {
          "model_module": "@jupyter-widgets/controls",
          "model_module_version": "1.5.0",
          "model_name": "ProgressStyleModel",
          "state": {
            "_model_module": "@jupyter-widgets/controls",
            "_model_module_version": "1.5.0",
            "_model_name": "ProgressStyleModel",
            "_view_count": null,
            "_view_module": "@jupyter-widgets/base",
            "_view_module_version": "1.2.0",
            "_view_name": "StyleView",
            "bar_color": null,
            "description_width": ""
          }
        },
        "5cb8dd78f16c4aee87ef71d850472f39": {
          "model_module": "@jupyter-widgets/controls",
          "model_module_version": "1.5.0",
          "model_name": "DescriptionStyleModel",
          "state": {
            "_model_module": "@jupyter-widgets/controls",
            "_model_module_version": "1.5.0",
            "_model_name": "DescriptionStyleModel",
            "_view_count": null,
            "_view_module": "@jupyter-widgets/base",
            "_view_module_version": "1.2.0",
            "_view_name": "StyleView",
            "description_width": ""
          }
        },
        "63b1e15e880c41368ca8830a4c4e4586": {
          "model_module": "@jupyter-widgets/controls",
          "model_module_version": "1.5.0",
          "model_name": "DescriptionStyleModel",
          "state": {
            "_model_module": "@jupyter-widgets/controls",
            "_model_module_version": "1.5.0",
            "_model_name": "DescriptionStyleModel",
            "_view_count": null,
            "_view_module": "@jupyter-widgets/base",
            "_view_module_version": "1.2.0",
            "_view_name": "StyleView",
            "description_width": ""
          }
        },
        "6a796ef0ad584575954877b7205712dc": {
          "model_module": "@jupyter-widgets/controls",
          "model_module_version": "1.5.0",
          "model_name": "ProgressStyleModel",
          "state": {
            "_model_module": "@jupyter-widgets/controls",
            "_model_module_version": "1.5.0",
            "_model_name": "ProgressStyleModel",
            "_view_count": null,
            "_view_module": "@jupyter-widgets/base",
            "_view_module_version": "1.2.0",
            "_view_name": "StyleView",
            "bar_color": null,
            "description_width": ""
          }
        },
        "6d32378cc18e44da902a0caa2a0b255c": {
          "model_module": "@jupyter-widgets/base",
          "model_module_version": "1.2.0",
          "model_name": "LayoutModel",
          "state": {
            "_model_module": "@jupyter-widgets/base",
            "_model_module_version": "1.2.0",
            "_model_name": "LayoutModel",
            "_view_count": null,
            "_view_module": "@jupyter-widgets/base",
            "_view_module_version": "1.2.0",
            "_view_name": "LayoutView",
            "align_content": null,
            "align_items": null,
            "align_self": null,
            "border": null,
            "bottom": null,
            "display": null,
            "flex": null,
            "flex_flow": null,
            "grid_area": null,
            "grid_auto_columns": null,
            "grid_auto_flow": null,
            "grid_auto_rows": null,
            "grid_column": null,
            "grid_gap": null,
            "grid_row": null,
            "grid_template_areas": null,
            "grid_template_columns": null,
            "grid_template_rows": null,
            "height": null,
            "justify_content": null,
            "justify_items": null,
            "left": null,
            "margin": null,
            "max_height": null,
            "max_width": null,
            "min_height": null,
            "min_width": null,
            "object_fit": null,
            "object_position": null,
            "order": null,
            "overflow": null,
            "overflow_x": null,
            "overflow_y": null,
            "padding": null,
            "right": null,
            "top": null,
            "visibility": null,
            "width": null
          }
        },
        "704c2b08ffae4d3f882c69b073c0ba5d": {
          "model_module": "@jupyter-widgets/controls",
          "model_module_version": "1.5.0",
          "model_name": "HBoxModel",
          "state": {
            "_dom_classes": [],
            "_model_module": "@jupyter-widgets/controls",
            "_model_module_version": "1.5.0",
            "_model_name": "HBoxModel",
            "_view_count": null,
            "_view_module": "@jupyter-widgets/controls",
            "_view_module_version": "1.5.0",
            "_view_name": "HBoxView",
            "box_style": "",
            "children": [
              "IPY_MODEL_562eee762a1e4abb883665c25b0efe94",
              "IPY_MODEL_cb7ac2d69f174a39806e20278b5a903d",
              "IPY_MODEL_def5a44fc01d476194bc31606c31ce0e"
            ],
            "layout": "IPY_MODEL_a1869a90ff4c466b94db56e6033e316e"
          }
        },
        "727a038ff653429d9428a856c99097f0": {
          "model_module": "@jupyter-widgets/controls",
          "model_module_version": "1.5.0",
          "model_name": "HTMLModel",
          "state": {
            "_dom_classes": [],
            "_model_module": "@jupyter-widgets/controls",
            "_model_module_version": "1.5.0",
            "_model_name": "HTMLModel",
            "_view_count": null,
            "_view_module": "@jupyter-widgets/controls",
            "_view_module_version": "1.5.0",
            "_view_name": "HTMLView",
            "description": "",
            "description_tooltip": null,
            "layout": "IPY_MODEL_85e88c1957d54d42b35c639452833f32",
            "placeholder": "​",
            "style": "IPY_MODEL_63b1e15e880c41368ca8830a4c4e4586",
            "value": " 29696/? [00:00&lt;00:00, 891435.57it/s]"
          }
        },
        "803d76b9591b473aa93b9fbe06326244": {
          "model_module": "@jupyter-widgets/base",
          "model_module_version": "1.2.0",
          "model_name": "LayoutModel",
          "state": {
            "_model_module": "@jupyter-widgets/base",
            "_model_module_version": "1.2.0",
            "_model_name": "LayoutModel",
            "_view_count": null,
            "_view_module": "@jupyter-widgets/base",
            "_view_module_version": "1.2.0",
            "_view_name": "LayoutView",
            "align_content": null,
            "align_items": null,
            "align_self": null,
            "border": null,
            "bottom": null,
            "display": null,
            "flex": null,
            "flex_flow": null,
            "grid_area": null,
            "grid_auto_columns": null,
            "grid_auto_flow": null,
            "grid_auto_rows": null,
            "grid_column": null,
            "grid_gap": null,
            "grid_row": null,
            "grid_template_areas": null,
            "grid_template_columns": null,
            "grid_template_rows": null,
            "height": null,
            "justify_content": null,
            "justify_items": null,
            "left": null,
            "margin": null,
            "max_height": null,
            "max_width": null,
            "min_height": null,
            "min_width": null,
            "object_fit": null,
            "object_position": null,
            "order": null,
            "overflow": null,
            "overflow_x": null,
            "overflow_y": null,
            "padding": null,
            "right": null,
            "top": null,
            "visibility": null,
            "width": null
          }
        },
        "81e2fc9c1f4641fc8950a399aa0fb315": {
          "model_module": "@jupyter-widgets/controls",
          "model_module_version": "1.5.0",
          "model_name": "HTMLModel",
          "state": {
            "_dom_classes": [],
            "_model_module": "@jupyter-widgets/controls",
            "_model_module_version": "1.5.0",
            "_model_name": "HTMLModel",
            "_view_count": null,
            "_view_module": "@jupyter-widgets/controls",
            "_view_module_version": "1.5.0",
            "_view_name": "HTMLView",
            "description": "",
            "description_tooltip": null,
            "layout": "IPY_MODEL_35e5b97bed024498bfd8ebb4fb7373a1",
            "placeholder": "​",
            "style": "IPY_MODEL_865670c5b4b449b1afbbebb82b2663d7",
            "value": ""
          }
        },
        "82ab12cf436949118f46fc56a9830436": {
          "model_module": "@jupyter-widgets/controls",
          "model_module_version": "1.5.0",
          "model_name": "DescriptionStyleModel",
          "state": {
            "_model_module": "@jupyter-widgets/controls",
            "_model_module_version": "1.5.0",
            "_model_name": "DescriptionStyleModel",
            "_view_count": null,
            "_view_module": "@jupyter-widgets/base",
            "_view_module_version": "1.2.0",
            "_view_name": "StyleView",
            "description_width": ""
          }
        },
        "85e88c1957d54d42b35c639452833f32": {
          "model_module": "@jupyter-widgets/base",
          "model_module_version": "1.2.0",
          "model_name": "LayoutModel",
          "state": {
            "_model_module": "@jupyter-widgets/base",
            "_model_module_version": "1.2.0",
            "_model_name": "LayoutModel",
            "_view_count": null,
            "_view_module": "@jupyter-widgets/base",
            "_view_module_version": "1.2.0",
            "_view_name": "LayoutView",
            "align_content": null,
            "align_items": null,
            "align_self": null,
            "border": null,
            "bottom": null,
            "display": null,
            "flex": null,
            "flex_flow": null,
            "grid_area": null,
            "grid_auto_columns": null,
            "grid_auto_flow": null,
            "grid_auto_rows": null,
            "grid_column": null,
            "grid_gap": null,
            "grid_row": null,
            "grid_template_areas": null,
            "grid_template_columns": null,
            "grid_template_rows": null,
            "height": null,
            "justify_content": null,
            "justify_items": null,
            "left": null,
            "margin": null,
            "max_height": null,
            "max_width": null,
            "min_height": null,
            "min_width": null,
            "object_fit": null,
            "object_position": null,
            "order": null,
            "overflow": null,
            "overflow_x": null,
            "overflow_y": null,
            "padding": null,
            "right": null,
            "top": null,
            "visibility": null,
            "width": null
          }
        },
        "865670c5b4b449b1afbbebb82b2663d7": {
          "model_module": "@jupyter-widgets/controls",
          "model_module_version": "1.5.0",
          "model_name": "DescriptionStyleModel",
          "state": {
            "_model_module": "@jupyter-widgets/controls",
            "_model_module_version": "1.5.0",
            "_model_name": "DescriptionStyleModel",
            "_view_count": null,
            "_view_module": "@jupyter-widgets/base",
            "_view_module_version": "1.2.0",
            "_view_name": "StyleView",
            "description_width": ""
          }
        },
        "8841de3338eb47fab1564f55e786ed4b": {
          "model_module": "@jupyter-widgets/controls",
          "model_module_version": "1.5.0",
          "model_name": "HTMLModel",
          "state": {
            "_dom_classes": [],
            "_model_module": "@jupyter-widgets/controls",
            "_model_module_version": "1.5.0",
            "_model_name": "HTMLModel",
            "_view_count": null,
            "_view_module": "@jupyter-widgets/controls",
            "_view_module_version": "1.5.0",
            "_view_name": "HTMLView",
            "description": "",
            "description_tooltip": null,
            "layout": "IPY_MODEL_803d76b9591b473aa93b9fbe06326244",
            "placeholder": "​",
            "style": "IPY_MODEL_f446ce92948a42b4a3a0dce615036da2",
            "value": " 9913344/? [00:00&lt;00:00, 30559984.05it/s]"
          }
        },
        "8e84155f13b04226857cf5cbfa76b0e3": {
          "model_module": "@jupyter-widgets/controls",
          "model_module_version": "1.5.0",
          "model_name": "HTMLModel",
          "state": {
            "_dom_classes": [],
            "_model_module": "@jupyter-widgets/controls",
            "_model_module_version": "1.5.0",
            "_model_name": "HTMLModel",
            "_view_count": null,
            "_view_module": "@jupyter-widgets/controls",
            "_view_module_version": "1.5.0",
            "_view_name": "HTMLView",
            "description": "",
            "description_tooltip": null,
            "layout": "IPY_MODEL_3ac68a7dc4674690b0c33f3a80a3532b",
            "placeholder": "​",
            "style": "IPY_MODEL_5196846131664ead9d4bb8dc0c1504f1",
            "value": ""
          }
        },
        "901272bfd7bd4ef781db58589c221156": {
          "model_module": "@jupyter-widgets/controls",
          "model_module_version": "1.5.0",
          "model_name": "HBoxModel",
          "state": {
            "_dom_classes": [],
            "_model_module": "@jupyter-widgets/controls",
            "_model_module_version": "1.5.0",
            "_model_name": "HBoxModel",
            "_view_count": null,
            "_view_module": "@jupyter-widgets/controls",
            "_view_module_version": "1.5.0",
            "_view_name": "HBoxView",
            "box_style": "",
            "children": [
              "IPY_MODEL_81e2fc9c1f4641fc8950a399aa0fb315",
              "IPY_MODEL_a3a3e44131024c2f92750689e5914e7b",
              "IPY_MODEL_727a038ff653429d9428a856c99097f0"
            ],
            "layout": "IPY_MODEL_6d32378cc18e44da902a0caa2a0b255c"
          }
        },
        "996f781a8fd74f3fa64ffe2d76e979f0": {
          "model_module": "@jupyter-widgets/base",
          "model_module_version": "1.2.0",
          "model_name": "LayoutModel",
          "state": {
            "_model_module": "@jupyter-widgets/base",
            "_model_module_version": "1.2.0",
            "_model_name": "LayoutModel",
            "_view_count": null,
            "_view_module": "@jupyter-widgets/base",
            "_view_module_version": "1.2.0",
            "_view_name": "LayoutView",
            "align_content": null,
            "align_items": null,
            "align_self": null,
            "border": null,
            "bottom": null,
            "display": null,
            "flex": null,
            "flex_flow": null,
            "grid_area": null,
            "grid_auto_columns": null,
            "grid_auto_flow": null,
            "grid_auto_rows": null,
            "grid_column": null,
            "grid_gap": null,
            "grid_row": null,
            "grid_template_areas": null,
            "grid_template_columns": null,
            "grid_template_rows": null,
            "height": null,
            "justify_content": null,
            "justify_items": null,
            "left": null,
            "margin": null,
            "max_height": null,
            "max_width": null,
            "min_height": null,
            "min_width": null,
            "object_fit": null,
            "object_position": null,
            "order": null,
            "overflow": null,
            "overflow_x": null,
            "overflow_y": null,
            "padding": null,
            "right": null,
            "top": null,
            "visibility": null,
            "width": null
          }
        },
        "a0368ed004794c4281f5a1d49ba3b401": {
          "model_module": "@jupyter-widgets/base",
          "model_module_version": "1.2.0",
          "model_name": "LayoutModel",
          "state": {
            "_model_module": "@jupyter-widgets/base",
            "_model_module_version": "1.2.0",
            "_model_name": "LayoutModel",
            "_view_count": null,
            "_view_module": "@jupyter-widgets/base",
            "_view_module_version": "1.2.0",
            "_view_name": "LayoutView",
            "align_content": null,
            "align_items": null,
            "align_self": null,
            "border": null,
            "bottom": null,
            "display": null,
            "flex": null,
            "flex_flow": null,
            "grid_area": null,
            "grid_auto_columns": null,
            "grid_auto_flow": null,
            "grid_auto_rows": null,
            "grid_column": null,
            "grid_gap": null,
            "grid_row": null,
            "grid_template_areas": null,
            "grid_template_columns": null,
            "grid_template_rows": null,
            "height": null,
            "justify_content": null,
            "justify_items": null,
            "left": null,
            "margin": null,
            "max_height": null,
            "max_width": null,
            "min_height": null,
            "min_width": null,
            "object_fit": null,
            "object_position": null,
            "order": null,
            "overflow": null,
            "overflow_x": null,
            "overflow_y": null,
            "padding": null,
            "right": null,
            "top": null,
            "visibility": null,
            "width": null
          }
        },
        "a1869a90ff4c466b94db56e6033e316e": {
          "model_module": "@jupyter-widgets/base",
          "model_module_version": "1.2.0",
          "model_name": "LayoutModel",
          "state": {
            "_model_module": "@jupyter-widgets/base",
            "_model_module_version": "1.2.0",
            "_model_name": "LayoutModel",
            "_view_count": null,
            "_view_module": "@jupyter-widgets/base",
            "_view_module_version": "1.2.0",
            "_view_name": "LayoutView",
            "align_content": null,
            "align_items": null,
            "align_self": null,
            "border": null,
            "bottom": null,
            "display": null,
            "flex": null,
            "flex_flow": null,
            "grid_area": null,
            "grid_auto_columns": null,
            "grid_auto_flow": null,
            "grid_auto_rows": null,
            "grid_column": null,
            "grid_gap": null,
            "grid_row": null,
            "grid_template_areas": null,
            "grid_template_columns": null,
            "grid_template_rows": null,
            "height": null,
            "justify_content": null,
            "justify_items": null,
            "left": null,
            "margin": null,
            "max_height": null,
            "max_width": null,
            "min_height": null,
            "min_width": null,
            "object_fit": null,
            "object_position": null,
            "order": null,
            "overflow": null,
            "overflow_x": null,
            "overflow_y": null,
            "padding": null,
            "right": null,
            "top": null,
            "visibility": null,
            "width": null
          }
        },
        "a3a3e44131024c2f92750689e5914e7b": {
          "model_module": "@jupyter-widgets/controls",
          "model_module_version": "1.5.0",
          "model_name": "FloatProgressModel",
          "state": {
            "_dom_classes": [],
            "_model_module": "@jupyter-widgets/controls",
            "_model_module_version": "1.5.0",
            "_model_name": "FloatProgressModel",
            "_view_count": null,
            "_view_module": "@jupyter-widgets/controls",
            "_view_module_version": "1.5.0",
            "_view_name": "ProgressView",
            "bar_style": "success",
            "description": "",
            "description_tooltip": null,
            "layout": "IPY_MODEL_bd71b29d667f4b4ea8dc6cc9d50655e4",
            "max": 28881,
            "min": 0,
            "orientation": "horizontal",
            "style": "IPY_MODEL_eef4f85359eb4bbfa6fbd5441e5eac44",
            "value": 28881
          }
        },
        "b036df31845045ba83440406c15e51e9": {
          "model_module": "@jupyter-widgets/controls",
          "model_module_version": "1.5.0",
          "model_name": "FloatProgressModel",
          "state": {
            "_dom_classes": [],
            "_model_module": "@jupyter-widgets/controls",
            "_model_module_version": "1.5.0",
            "_model_name": "FloatProgressModel",
            "_view_count": null,
            "_view_module": "@jupyter-widgets/controls",
            "_view_module_version": "1.5.0",
            "_view_name": "ProgressView",
            "bar_style": "success",
            "description": "",
            "description_tooltip": null,
            "layout": "IPY_MODEL_12f082948d9c42fcb818325ebe7e09fd",
            "max": 9912422,
            "min": 0,
            "orientation": "horizontal",
            "style": "IPY_MODEL_6a796ef0ad584575954877b7205712dc",
            "value": 9912422
          }
        },
        "b0a60fc54b5049eaaa0c1f89315ac4a5": {
          "model_module": "@jupyter-widgets/controls",
          "model_module_version": "1.5.0",
          "model_name": "HBoxModel",
          "state": {
            "_dom_classes": [],
            "_model_module": "@jupyter-widgets/controls",
            "_model_module_version": "1.5.0",
            "_model_name": "HBoxModel",
            "_view_count": null,
            "_view_module": "@jupyter-widgets/controls",
            "_view_module_version": "1.5.0",
            "_view_name": "HBoxView",
            "box_style": "",
            "children": [
              "IPY_MODEL_8e84155f13b04226857cf5cbfa76b0e3",
              "IPY_MODEL_b036df31845045ba83440406c15e51e9",
              "IPY_MODEL_8841de3338eb47fab1564f55e786ed4b"
            ],
            "layout": "IPY_MODEL_996f781a8fd74f3fa64ffe2d76e979f0"
          }
        },
        "bd71b29d667f4b4ea8dc6cc9d50655e4": {
          "model_module": "@jupyter-widgets/base",
          "model_module_version": "1.2.0",
          "model_name": "LayoutModel",
          "state": {
            "_model_module": "@jupyter-widgets/base",
            "_model_module_version": "1.2.0",
            "_model_name": "LayoutModel",
            "_view_count": null,
            "_view_module": "@jupyter-widgets/base",
            "_view_module_version": "1.2.0",
            "_view_name": "LayoutView",
            "align_content": null,
            "align_items": null,
            "align_self": null,
            "border": null,
            "bottom": null,
            "display": null,
            "flex": null,
            "flex_flow": null,
            "grid_area": null,
            "grid_auto_columns": null,
            "grid_auto_flow": null,
            "grid_auto_rows": null,
            "grid_column": null,
            "grid_gap": null,
            "grid_row": null,
            "grid_template_areas": null,
            "grid_template_columns": null,
            "grid_template_rows": null,
            "height": null,
            "justify_content": null,
            "justify_items": null,
            "left": null,
            "margin": null,
            "max_height": null,
            "max_width": null,
            "min_height": null,
            "min_width": null,
            "object_fit": null,
            "object_position": null,
            "order": null,
            "overflow": null,
            "overflow_x": null,
            "overflow_y": null,
            "padding": null,
            "right": null,
            "top": null,
            "visibility": null,
            "width": null
          }
        },
        "bdc52524eb5f4e58a0e54b3cad0567a7": {
          "model_module": "@jupyter-widgets/controls",
          "model_module_version": "1.5.0",
          "model_name": "FloatProgressModel",
          "state": {
            "_dom_classes": [],
            "_model_module": "@jupyter-widgets/controls",
            "_model_module_version": "1.5.0",
            "_model_name": "FloatProgressModel",
            "_view_count": null,
            "_view_module": "@jupyter-widgets/controls",
            "_view_module_version": "1.5.0",
            "_view_name": "ProgressView",
            "bar_style": "success",
            "description": "",
            "description_tooltip": null,
            "layout": "IPY_MODEL_2e211c17ec864dbda2554f51939c2197",
            "max": 4542,
            "min": 0,
            "orientation": "horizontal",
            "style": "IPY_MODEL_5b562b6afa5f4505b760bfcf2111880d",
            "value": 4542
          }
        },
        "c5c90057571942a9be66731e2484893a": {
          "model_module": "@jupyter-widgets/controls",
          "model_module_version": "1.5.0",
          "model_name": "DescriptionStyleModel",
          "state": {
            "_model_module": "@jupyter-widgets/controls",
            "_model_module_version": "1.5.0",
            "_model_name": "DescriptionStyleModel",
            "_view_count": null,
            "_view_module": "@jupyter-widgets/base",
            "_view_module_version": "1.2.0",
            "_view_name": "StyleView",
            "description_width": ""
          }
        },
        "cb7ac2d69f174a39806e20278b5a903d": {
          "model_module": "@jupyter-widgets/controls",
          "model_module_version": "1.5.0",
          "model_name": "FloatProgressModel",
          "state": {
            "_dom_classes": [],
            "_model_module": "@jupyter-widgets/controls",
            "_model_module_version": "1.5.0",
            "_model_name": "FloatProgressModel",
            "_view_count": null,
            "_view_module": "@jupyter-widgets/controls",
            "_view_module_version": "1.5.0",
            "_view_name": "ProgressView",
            "bar_style": "success",
            "description": "",
            "description_tooltip": null,
            "layout": "IPY_MODEL_a0368ed004794c4281f5a1d49ba3b401",
            "max": 1648877,
            "min": 0,
            "orientation": "horizontal",
            "style": "IPY_MODEL_29d6e3129b1f42ea99dfc2c0f552c502",
            "value": 1648877
          }
        },
        "cbe5ed53f7414f59810858142909fd49": {
          "model_module": "@jupyter-widgets/base",
          "model_module_version": "1.2.0",
          "model_name": "LayoutModel",
          "state": {
            "_model_module": "@jupyter-widgets/base",
            "_model_module_version": "1.2.0",
            "_model_name": "LayoutModel",
            "_view_count": null,
            "_view_module": "@jupyter-widgets/base",
            "_view_module_version": "1.2.0",
            "_view_name": "LayoutView",
            "align_content": null,
            "align_items": null,
            "align_self": null,
            "border": null,
            "bottom": null,
            "display": null,
            "flex": null,
            "flex_flow": null,
            "grid_area": null,
            "grid_auto_columns": null,
            "grid_auto_flow": null,
            "grid_auto_rows": null,
            "grid_column": null,
            "grid_gap": null,
            "grid_row": null,
            "grid_template_areas": null,
            "grid_template_columns": null,
            "grid_template_rows": null,
            "height": null,
            "justify_content": null,
            "justify_items": null,
            "left": null,
            "margin": null,
            "max_height": null,
            "max_width": null,
            "min_height": null,
            "min_width": null,
            "object_fit": null,
            "object_position": null,
            "order": null,
            "overflow": null,
            "overflow_x": null,
            "overflow_y": null,
            "padding": null,
            "right": null,
            "top": null,
            "visibility": null,
            "width": null
          }
        },
        "dceb1e82ad44436494652d638e7942b0": {
          "model_module": "@jupyter-widgets/base",
          "model_module_version": "1.2.0",
          "model_name": "LayoutModel",
          "state": {
            "_model_module": "@jupyter-widgets/base",
            "_model_module_version": "1.2.0",
            "_model_name": "LayoutModel",
            "_view_count": null,
            "_view_module": "@jupyter-widgets/base",
            "_view_module_version": "1.2.0",
            "_view_name": "LayoutView",
            "align_content": null,
            "align_items": null,
            "align_self": null,
            "border": null,
            "bottom": null,
            "display": null,
            "flex": null,
            "flex_flow": null,
            "grid_area": null,
            "grid_auto_columns": null,
            "grid_auto_flow": null,
            "grid_auto_rows": null,
            "grid_column": null,
            "grid_gap": null,
            "grid_row": null,
            "grid_template_areas": null,
            "grid_template_columns": null,
            "grid_template_rows": null,
            "height": null,
            "justify_content": null,
            "justify_items": null,
            "left": null,
            "margin": null,
            "max_height": null,
            "max_width": null,
            "min_height": null,
            "min_width": null,
            "object_fit": null,
            "object_position": null,
            "order": null,
            "overflow": null,
            "overflow_x": null,
            "overflow_y": null,
            "padding": null,
            "right": null,
            "top": null,
            "visibility": null,
            "width": null
          }
        },
        "ddd700a575744f26bab1c1dbcf6f9aef": {
          "model_module": "@jupyter-widgets/controls",
          "model_module_version": "1.5.0",
          "model_name": "HTMLModel",
          "state": {
            "_dom_classes": [],
            "_model_module": "@jupyter-widgets/controls",
            "_model_module_version": "1.5.0",
            "_model_name": "HTMLModel",
            "_view_count": null,
            "_view_module": "@jupyter-widgets/controls",
            "_view_module_version": "1.5.0",
            "_view_name": "HTMLView",
            "description": "",
            "description_tooltip": null,
            "layout": "IPY_MODEL_386da8a107cc4972b6659478a41114f8",
            "placeholder": "​",
            "style": "IPY_MODEL_c5c90057571942a9be66731e2484893a",
            "value": ""
          }
        },
        "def5a44fc01d476194bc31606c31ce0e": {
          "model_module": "@jupyter-widgets/controls",
          "model_module_version": "1.5.0",
          "model_name": "HTMLModel",
          "state": {
            "_dom_classes": [],
            "_model_module": "@jupyter-widgets/controls",
            "_model_module_version": "1.5.0",
            "_model_name": "HTMLModel",
            "_view_count": null,
            "_view_module": "@jupyter-widgets/controls",
            "_view_module_version": "1.5.0",
            "_view_name": "HTMLView",
            "description": "",
            "description_tooltip": null,
            "layout": "IPY_MODEL_cbe5ed53f7414f59810858142909fd49",
            "placeholder": "​",
            "style": "IPY_MODEL_4c7e36fe0bc648488abc511f290fb94a",
            "value": " 1649664/? [00:00&lt;00:00, 22656311.81it/s]"
          }
        },
        "e58db8f66499485586335448f204a3a8": {
          "model_module": "@jupyter-widgets/base",
          "model_module_version": "1.2.0",
          "model_name": "LayoutModel",
          "state": {
            "_model_module": "@jupyter-widgets/base",
            "_model_module_version": "1.2.0",
            "_model_name": "LayoutModel",
            "_view_count": null,
            "_view_module": "@jupyter-widgets/base",
            "_view_module_version": "1.2.0",
            "_view_name": "LayoutView",
            "align_content": null,
            "align_items": null,
            "align_self": null,
            "border": null,
            "bottom": null,
            "display": null,
            "flex": null,
            "flex_flow": null,
            "grid_area": null,
            "grid_auto_columns": null,
            "grid_auto_flow": null,
            "grid_auto_rows": null,
            "grid_column": null,
            "grid_gap": null,
            "grid_row": null,
            "grid_template_areas": null,
            "grid_template_columns": null,
            "grid_template_rows": null,
            "height": null,
            "justify_content": null,
            "justify_items": null,
            "left": null,
            "margin": null,
            "max_height": null,
            "max_width": null,
            "min_height": null,
            "min_width": null,
            "object_fit": null,
            "object_position": null,
            "order": null,
            "overflow": null,
            "overflow_x": null,
            "overflow_y": null,
            "padding": null,
            "right": null,
            "top": null,
            "visibility": null,
            "width": null
          }
        },
        "eef4f85359eb4bbfa6fbd5441e5eac44": {
          "model_module": "@jupyter-widgets/controls",
          "model_module_version": "1.5.0",
          "model_name": "ProgressStyleModel",
          "state": {
            "_model_module": "@jupyter-widgets/controls",
            "_model_module_version": "1.5.0",
            "_model_name": "ProgressStyleModel",
            "_view_count": null,
            "_view_module": "@jupyter-widgets/base",
            "_view_module_version": "1.2.0",
            "_view_name": "StyleView",
            "bar_color": null,
            "description_width": ""
          }
        },
        "f446ce92948a42b4a3a0dce615036da2": {
          "model_module": "@jupyter-widgets/controls",
          "model_module_version": "1.5.0",
          "model_name": "DescriptionStyleModel",
          "state": {
            "_model_module": "@jupyter-widgets/controls",
            "_model_module_version": "1.5.0",
            "_model_name": "DescriptionStyleModel",
            "_view_count": null,
            "_view_module": "@jupyter-widgets/base",
            "_view_module_version": "1.2.0",
            "_view_name": "StyleView",
            "description_width": ""
          }
        }
      }
    }
  },
  "nbformat": 4,
  "nbformat_minor": 0
}
